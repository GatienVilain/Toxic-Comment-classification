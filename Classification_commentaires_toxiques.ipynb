{
  "cells": [
    {
      "attachments": {},
      "cell_type": "markdown",
      "metadata": {
        "colab_type": "text",
        "id": "view-in-github"
      },
      "source": [
        "<a href=\"https://colab.research.google.com/github/GatienVilain/Toxic-Comment-classification/blob/master/Classification_commentaires_toxiques.ipynb\" target=\"_parent\"><img src=\"https://colab.research.google.com/assets/colab-badge.svg\" alt=\"Open In Colab\"/></a>"
      ]
    },
    {
      "cell_type": "markdown",
      "metadata": {
        "id": "RlkF8etRlKlu"
      },
      "source": [
        "<h1> Classification de commentaires <h1>\n",
        "\n",
        "# Sommaire\n",
        "\n",
        "1. [Importation des packages](#scrollTo=_lyJzHuKRNWX)\n",
        "2. [Importation des données](#scrollTo=xZLpUMItRWc0)\n",
        "3. [Etude du jeu de données](#scrollTo=-kUWzBzISpsK)\n",
        "  1. [Les données d'entraînement](#scrollTo=rpYAjfU1a6b5)\n",
        "  2. [Les données de test](#scrollTo=K8j6JdPJbg39)\n",
        "4. [Préparation des données](#scrollTo=YIzpSrAjSsAM)\n",
        "  1. [Création des fonctions](#scrollTo=FNpY_oJ1KjWc)\n",
        "  2. [Nettoyage des données](#scrollTo=hp2PjMtJK3ht)\n",
        "  3. [Vectorisation des données](#scrollTo=rgzmbm-XYGQm)\n",
        "5. [Entraînement du modèle baseline](#scrollTo=ndSnViq8bPif)\n",
        "6. [Itération de la modélisation](#scrollTo=2a8IWbTFTHXh)\n",
        "  1. [LSTM](#scrollTo=kY6nFhoGLSSB)\n",
        "    1. [Prédiction avec le modèle NN with LSTM](#scrollTo=nwDIOz8p9sy8)\n",
        "  2. [Max length = 30](#scrollTo=90ozOXSjLYR2)\n",
        "  3. [Limiter le bag of word à 20000](#scrollTo=qCM-Qb8BNhVp)\n",
        "    1. [Utilisation matrice d'embedding (Glove)](#srollTo=7Gs_PGqIQgtC)\n",
        "\n",
        "\n",
        "\n"
      ]
    },
    {
      "cell_type": "markdown",
      "metadata": {
        "id": "_lyJzHuKRNWX"
      },
      "source": [
        "# 1. Importation des packages"
      ]
    },
    {
      "cell_type": "code",
      "execution_count": 3,
      "metadata": {
        "colab": {
          "base_uri": "https://localhost:8080/"
        },
        "id": "taja6ayw_X_F",
        "outputId": "613a1cc3-e72d-4817-e70a-0c3c6088ed0b"
      },
      "outputs": [
        {
          "name": "stdout",
          "output_type": "stream",
          "text": [
            "Looking in indexes: https://pypi.org/simple, https://us-python.pkg.dev/colab-wheels/public/simple/\n",
            "Collecting tensorflow-addons\n",
            "  Downloading tensorflow_addons-0.19.0-cp38-cp38-manylinux_2_17_x86_64.manylinux2014_x86_64.whl (1.1 MB)\n",
            "\u001b[2K     \u001b[90m━━━━━━━━━━━━━━━━━━━━━━━━━━━━━━━━━━━━━━━━\u001b[0m \u001b[32m1.1/1.1 MB\u001b[0m \u001b[31m32.3 MB/s\u001b[0m eta \u001b[36m0:00:00\u001b[0m\n",
            "\u001b[?25hRequirement already satisfied: typeguard>=2.7 in /usr/local/lib/python3.8/dist-packages (from tensorflow-addons) (2.7.1)\n",
            "Requirement already satisfied: packaging in /usr/local/lib/python3.8/dist-packages (from tensorflow-addons) (23.0)\n",
            "Installing collected packages: tensorflow-addons\n",
            "Successfully installed tensorflow-addons-0.19.0\n"
          ]
        }
      ],
      "source": [
        "!pip install tensorflow-addons"
      ]
    },
    {
      "cell_type": "code",
      "execution_count": 4,
      "metadata": {
        "id": "MUj96QiIQsJ_"
      },
      "outputs": [],
      "source": [
        "import numpy as np\n",
        "import pandas as pd\n",
        "import matplotlib.pyplot as plt\n",
        "import tensorflow as tf\n",
        "import nltk, string\n",
        "from nltk.corpus import stopwords\n",
        "from nltk.tokenize import TweetTokenizer\n",
        "import re\n",
        "from sklearn.feature_extraction.text import TfidfVectorizer \n",
        "from sklearn.model_selection import train_test_split  \n",
        "from sklearn.ensemble import RandomForestClassifier\n",
        "from sklearn.metrics import classification_report, confusion_matrix, accuracy_score\n",
        "import random\n",
        "\n",
        "from tensorflow.keras.layers import Embedding, LSTM, Dense, Dropout, Bidirectional\n",
        "import tensorflow_addons as tfa\n",
        "from tensorflow.keras.preprocessing.text import Tokenizer\n",
        "from tensorflow.keras.preprocessing.sequence import pad_sequences\n",
        "\n",
        "import matplotlib.image  as mpimg\n",
        "import matplotlib.pyplot as plt\n",
        "\n",
        "from sklearn.utils import class_weight\n"
      ]
    },
    {
      "cell_type": "markdown",
      "metadata": {
        "id": "xZLpUMItRWc0"
      },
      "source": [
        "# 2. Importation des données"
      ]
    },
    {
      "cell_type": "markdown",
      "metadata": {
        "id": "cbE3MzVKRaV2"
      },
      "source": [
        "Ajoutez un raccourci de ce dossier à votre google drive :\n",
        "\n",
        "https://drive.google.com/drive/folders/1mx-CAzT10YKrmxHfYDP_1Oef7PVGUr7s?usp=sharing"
      ]
    },
    {
      "cell_type": "code",
      "execution_count": 5,
      "metadata": {
        "colab": {
          "base_uri": "https://localhost:8080/"
        },
        "id": "4FktfCVaRVrs",
        "outputId": "837ec680-d86c-45c3-e87f-bdc370d30668"
      },
      "outputs": [
        {
          "name": "stdout",
          "output_type": "stream",
          "text": [
            "Mounted at /content/drive\n"
          ]
        }
      ],
      "source": [
        "from google.colab import drive\n",
        "drive.mount('/content/drive', force_remount=True)"
      ]
    },
    {
      "cell_type": "markdown",
      "metadata": {
        "id": "fVhdr9Lu1Fuu"
      },
      "source": [
        "Importe les données sources :\n",
        "\n",
        "(Si vous avez préparer les données en amonts, vous pouvez directement aller à la partie [Vectorisation des données](#scrollTo=rgzmbm-XYGQm).\n"
      ]
    },
    {
      "cell_type": "code",
      "execution_count": 6,
      "metadata": {
        "id": "qky64Lq8Rocy"
      },
      "outputs": [],
      "source": [
        "data_train = pd.read_csv('/content/drive/MyDrive/data_classification_commentaires_toxiques/train.csv')\n",
        "data_test = pd.read_csv('/content/drive/MyDrive/data_classification_commentaires_toxiques/test.csv')\n",
        "data_test_labels = pd.read_csv('/content/drive/MyDrive/data_classification_commentaires_toxiques/test_labels.csv')\n",
        "data_test = pd.merge(data_test, data_test_labels, on = ['id'])"
      ]
    },
    {
      "cell_type": "markdown",
      "metadata": {
        "id": "-kUWzBzISpsK"
      },
      "source": [
        "# 3. Etude du jeu de données"
      ]
    },
    {
      "cell_type": "markdown",
      "metadata": {
        "id": "rpYAjfU1a6b5"
      },
      "source": [
        "## 3.1 Les données d'entraînement"
      ]
    },
    {
      "cell_type": "code",
      "execution_count": null,
      "metadata": {
        "colab": {
          "base_uri": "https://localhost:8080/",
          "height": 363
        },
        "id": "SoRPG7TRzFC6",
        "outputId": "dc4ceedf-5086-41c3-99b9-9298176f9db9"
      },
      "outputs": [
        {
          "data": {
            "text/html": [
              "\n",
              "  <div id=\"df-0d76934d-966b-4c3e-8291-a17005b8b0e4\">\n",
              "    <div class=\"colab-df-container\">\n",
              "      <div>\n",
              "<style scoped>\n",
              "    .dataframe tbody tr th:only-of-type {\n",
              "        vertical-align: middle;\n",
              "    }\n",
              "\n",
              "    .dataframe tbody tr th {\n",
              "        vertical-align: top;\n",
              "    }\n",
              "\n",
              "    .dataframe thead th {\n",
              "        text-align: right;\n",
              "    }\n",
              "</style>\n",
              "<table border=\"1\" class=\"dataframe\">\n",
              "  <thead>\n",
              "    <tr style=\"text-align: right;\">\n",
              "      <th></th>\n",
              "      <th>id</th>\n",
              "      <th>comment_text</th>\n",
              "      <th>toxic</th>\n",
              "      <th>severe_toxic</th>\n",
              "      <th>obscene</th>\n",
              "      <th>threat</th>\n",
              "      <th>insult</th>\n",
              "      <th>identity_hate</th>\n",
              "    </tr>\n",
              "  </thead>\n",
              "  <tbody>\n",
              "    <tr>\n",
              "      <th>50</th>\n",
              "      <td>001d8e7be417776a</td>\n",
              "      <td>\"\\n\\nBI, you said you wanted to talk\\n\\nAt the...</td>\n",
              "      <td>0</td>\n",
              "      <td>0</td>\n",
              "      <td>0</td>\n",
              "      <td>0</td>\n",
              "      <td>0</td>\n",
              "      <td>0</td>\n",
              "    </tr>\n",
              "    <tr>\n",
              "      <th>51</th>\n",
              "      <td>001dc38a83d420cf</td>\n",
              "      <td>GET FUCKED UP. GET FUCKEEED UP.  GOT A DRINK T...</td>\n",
              "      <td>1</td>\n",
              "      <td>0</td>\n",
              "      <td>1</td>\n",
              "      <td>0</td>\n",
              "      <td>0</td>\n",
              "      <td>0</td>\n",
              "    </tr>\n",
              "    <tr>\n",
              "      <th>52</th>\n",
              "      <td>001e89eb3f0b0915</td>\n",
              "      <td>Are you threatening me for disputing neutralit...</td>\n",
              "      <td>0</td>\n",
              "      <td>0</td>\n",
              "      <td>0</td>\n",
              "      <td>0</td>\n",
              "      <td>0</td>\n",
              "      <td>0</td>\n",
              "    </tr>\n",
              "    <tr>\n",
              "      <th>53</th>\n",
              "      <td>001ee16c46a99262</td>\n",
              "      <td>Thanks! Undeletion was more than I'd hoped for...</td>\n",
              "      <td>0</td>\n",
              "      <td>0</td>\n",
              "      <td>0</td>\n",
              "      <td>0</td>\n",
              "      <td>0</td>\n",
              "      <td>0</td>\n",
              "    </tr>\n",
              "    <tr>\n",
              "      <th>54</th>\n",
              "      <td>001ffdcc3e7fb49c</td>\n",
              "      <td>Awesome! Then I'll simply disregard your notic...</td>\n",
              "      <td>0</td>\n",
              "      <td>0</td>\n",
              "      <td>0</td>\n",
              "      <td>0</td>\n",
              "      <td>0</td>\n",
              "      <td>0</td>\n",
              "    </tr>\n",
              "    <tr>\n",
              "      <th>55</th>\n",
              "      <td>0020e7119b96eeeb</td>\n",
              "      <td>Stupid peace of shit stop deleting my stuff as...</td>\n",
              "      <td>1</td>\n",
              "      <td>1</td>\n",
              "      <td>1</td>\n",
              "      <td>0</td>\n",
              "      <td>1</td>\n",
              "      <td>0</td>\n",
              "    </tr>\n",
              "    <tr>\n",
              "      <th>56</th>\n",
              "      <td>0020fd96ed3b8c8b</td>\n",
              "      <td>=Tony Sidaway is obviously a fistfuckee. He lo...</td>\n",
              "      <td>1</td>\n",
              "      <td>0</td>\n",
              "      <td>1</td>\n",
              "      <td>0</td>\n",
              "      <td>1</td>\n",
              "      <td>0</td>\n",
              "    </tr>\n",
              "    <tr>\n",
              "      <th>57</th>\n",
              "      <td>00218d74784ce50b</td>\n",
              "      <td>\"\\n\\n GA Review II \\n\\nI'm sorry to say this, ...</td>\n",
              "      <td>0</td>\n",
              "      <td>0</td>\n",
              "      <td>0</td>\n",
              "      <td>0</td>\n",
              "      <td>0</td>\n",
              "      <td>0</td>\n",
              "    </tr>\n",
              "    <tr>\n",
              "      <th>58</th>\n",
              "      <td>0021fe88bc4da3e6</td>\n",
              "      <td>My Band Page's deletion. You thought I was gon...</td>\n",
              "      <td>1</td>\n",
              "      <td>0</td>\n",
              "      <td>1</td>\n",
              "      <td>0</td>\n",
              "      <td>0</td>\n",
              "      <td>0</td>\n",
              "    </tr>\n",
              "    <tr>\n",
              "      <th>59</th>\n",
              "      <td>002264ea4d5f2887</td>\n",
              "      <td>Why can't you believe how fat Artie is? Did yo...</td>\n",
              "      <td>1</td>\n",
              "      <td>0</td>\n",
              "      <td>0</td>\n",
              "      <td>0</td>\n",
              "      <td>0</td>\n",
              "      <td>0</td>\n",
              "    </tr>\n",
              "  </tbody>\n",
              "</table>\n",
              "</div>\n",
              "      <button class=\"colab-df-convert\" onclick=\"convertToInteractive('df-0d76934d-966b-4c3e-8291-a17005b8b0e4')\"\n",
              "              title=\"Convert this dataframe to an interactive table.\"\n",
              "              style=\"display:none;\">\n",
              "        \n",
              "  <svg xmlns=\"http://www.w3.org/2000/svg\" height=\"24px\"viewBox=\"0 0 24 24\"\n",
              "       width=\"24px\">\n",
              "    <path d=\"M0 0h24v24H0V0z\" fill=\"none\"/>\n",
              "    <path d=\"M18.56 5.44l.94 2.06.94-2.06 2.06-.94-2.06-.94-.94-2.06-.94 2.06-2.06.94zm-11 1L8.5 8.5l.94-2.06 2.06-.94-2.06-.94L8.5 2.5l-.94 2.06-2.06.94zm10 10l.94 2.06.94-2.06 2.06-.94-2.06-.94-.94-2.06-.94 2.06-2.06.94z\"/><path d=\"M17.41 7.96l-1.37-1.37c-.4-.4-.92-.59-1.43-.59-.52 0-1.04.2-1.43.59L10.3 9.45l-7.72 7.72c-.78.78-.78 2.05 0 2.83L4 21.41c.39.39.9.59 1.41.59.51 0 1.02-.2 1.41-.59l7.78-7.78 2.81-2.81c.8-.78.8-2.07 0-2.86zM5.41 20L4 18.59l7.72-7.72 1.47 1.35L5.41 20z\"/>\n",
              "  </svg>\n",
              "      </button>\n",
              "      \n",
              "  <style>\n",
              "    .colab-df-container {\n",
              "      display:flex;\n",
              "      flex-wrap:wrap;\n",
              "      gap: 12px;\n",
              "    }\n",
              "\n",
              "    .colab-df-convert {\n",
              "      background-color: #E8F0FE;\n",
              "      border: none;\n",
              "      border-radius: 50%;\n",
              "      cursor: pointer;\n",
              "      display: none;\n",
              "      fill: #1967D2;\n",
              "      height: 32px;\n",
              "      padding: 0 0 0 0;\n",
              "      width: 32px;\n",
              "    }\n",
              "\n",
              "    .colab-df-convert:hover {\n",
              "      background-color: #E2EBFA;\n",
              "      box-shadow: 0px 1px 2px rgba(60, 64, 67, 0.3), 0px 1px 3px 1px rgba(60, 64, 67, 0.15);\n",
              "      fill: #174EA6;\n",
              "    }\n",
              "\n",
              "    [theme=dark] .colab-df-convert {\n",
              "      background-color: #3B4455;\n",
              "      fill: #D2E3FC;\n",
              "    }\n",
              "\n",
              "    [theme=dark] .colab-df-convert:hover {\n",
              "      background-color: #434B5C;\n",
              "      box-shadow: 0px 1px 3px 1px rgba(0, 0, 0, 0.15);\n",
              "      filter: drop-shadow(0px 1px 2px rgba(0, 0, 0, 0.3));\n",
              "      fill: #FFFFFF;\n",
              "    }\n",
              "  </style>\n",
              "\n",
              "      <script>\n",
              "        const buttonEl =\n",
              "          document.querySelector('#df-0d76934d-966b-4c3e-8291-a17005b8b0e4 button.colab-df-convert');\n",
              "        buttonEl.style.display =\n",
              "          google.colab.kernel.accessAllowed ? 'block' : 'none';\n",
              "\n",
              "        async function convertToInteractive(key) {\n",
              "          const element = document.querySelector('#df-0d76934d-966b-4c3e-8291-a17005b8b0e4');\n",
              "          const dataTable =\n",
              "            await google.colab.kernel.invokeFunction('convertToInteractive',\n",
              "                                                     [key], {});\n",
              "          if (!dataTable) return;\n",
              "\n",
              "          const docLinkHtml = 'Like what you see? Visit the ' +\n",
              "            '<a target=\"_blank\" href=https://colab.research.google.com/notebooks/data_table.ipynb>data table notebook</a>'\n",
              "            + ' to learn more about interactive tables.';\n",
              "          element.innerHTML = '';\n",
              "          dataTable['output_type'] = 'display_data';\n",
              "          await google.colab.output.renderOutput(dataTable, element);\n",
              "          const docLink = document.createElement('div');\n",
              "          docLink.innerHTML = docLinkHtml;\n",
              "          element.appendChild(docLink);\n",
              "        }\n",
              "      </script>\n",
              "    </div>\n",
              "  </div>\n",
              "  "
            ],
            "text/plain": [
              "                  id                                       comment_text  \\\n",
              "50  001d8e7be417776a  \"\\n\\nBI, you said you wanted to talk\\n\\nAt the...   \n",
              "51  001dc38a83d420cf  GET FUCKED UP. GET FUCKEEED UP.  GOT A DRINK T...   \n",
              "52  001e89eb3f0b0915  Are you threatening me for disputing neutralit...   \n",
              "53  001ee16c46a99262  Thanks! Undeletion was more than I'd hoped for...   \n",
              "54  001ffdcc3e7fb49c  Awesome! Then I'll simply disregard your notic...   \n",
              "55  0020e7119b96eeeb  Stupid peace of shit stop deleting my stuff as...   \n",
              "56  0020fd96ed3b8c8b  =Tony Sidaway is obviously a fistfuckee. He lo...   \n",
              "57  00218d74784ce50b  \"\\n\\n GA Review II \\n\\nI'm sorry to say this, ...   \n",
              "58  0021fe88bc4da3e6  My Band Page's deletion. You thought I was gon...   \n",
              "59  002264ea4d5f2887  Why can't you believe how fat Artie is? Did yo...   \n",
              "\n",
              "    toxic  severe_toxic  obscene  threat  insult  identity_hate  \n",
              "50      0             0        0       0       0              0  \n",
              "51      1             0        1       0       0              0  \n",
              "52      0             0        0       0       0              0  \n",
              "53      0             0        0       0       0              0  \n",
              "54      0             0        0       0       0              0  \n",
              "55      1             1        1       0       1              0  \n",
              "56      1             0        1       0       1              0  \n",
              "57      0             0        0       0       0              0  \n",
              "58      1             0        1       0       0              0  \n",
              "59      1             0        0       0       0              0  "
            ]
          },
          "execution_count": 5,
          "metadata": {},
          "output_type": "execute_result"
        }
      ],
      "source": [
        "data_train[50:60]"
      ]
    },
    {
      "cell_type": "markdown",
      "metadata": {
        "id": "zK_GX0AD0Ml-"
      },
      "source": [
        "Commentaires type :"
      ]
    },
    {
      "cell_type": "code",
      "execution_count": null,
      "metadata": {
        "colab": {
          "base_uri": "https://localhost:8080/",
          "height": 105
        },
        "id": "xyQZZR61UcDa",
        "outputId": "960f2322-45e0-4d84-b8fb-8ecb7098435a"
      },
      "outputs": [
        {
          "data": {
            "application/vnd.google.colaboratory.intrinsic+json": {
              "type": "string"
            },
            "text/plain": [
              "'\"\\n\\n GA Review II \\n\\nI\\'m sorry to say this, but I have to fail this article\\'s GAN. The several major problems that  brought up in this article\\'s previous GA assessment have not been issued. As s/he has said before me, \"\"he article\\'s WP:LEAD should be longer. The History, Media attention, Academics, Student Government, Demographics, Trivia, and Additional Information section are very deficient in citiations. Also, Triva and Additional information should be integrated into the rest of the article.\"\" Again, please look over WP:WIAGA and fix these problem, then renominate it for GA-class. However, I have re-assessed this article as B-class, as it does meet B-class criteria. My regards,   \"'"
            ]
          },
          "execution_count": 6,
          "metadata": {},
          "output_type": "execute_result"
        }
      ],
      "source": [
        "data_train['comment_text'][57]"
      ]
    },
    {
      "cell_type": "code",
      "execution_count": null,
      "metadata": {
        "colab": {
          "base_uri": "https://localhost:8080/"
        },
        "id": "CAexGL7jS-VF",
        "outputId": "e159f10c-781e-4432-a830-615197b35e5a"
      },
      "outputs": [
        {
          "data": {
            "text/plain": [
              "50    \"\\n\\nBI, you said you wanted to talk\\n\\nAt the...\n",
              "51    GET FUCKED UP. GET FUCKEEED UP.  GOT A DRINK T...\n",
              "52    Are you threatening me for disputing neutralit...\n",
              "53    Thanks! Undeletion was more than I'd hoped for...\n",
              "54    Awesome! Then I'll simply disregard your notic...\n",
              "55    Stupid peace of shit stop deleting my stuff as...\n",
              "56    =Tony Sidaway is obviously a fistfuckee. He lo...\n",
              "57    \"\\n\\n GA Review II \\n\\nI'm sorry to say this, ...\n",
              "58    My Band Page's deletion. You thought I was gon...\n",
              "59    Why can't you believe how fat Artie is? Did yo...\n",
              "Name: comment_text, dtype: object"
            ]
          },
          "execution_count": 7,
          "metadata": {},
          "output_type": "execute_result"
        }
      ],
      "source": [
        "data_train['comment_text'][50:60]"
      ]
    },
    {
      "cell_type": "markdown",
      "metadata": {
        "id": "L1i-Vgj41J6k"
      },
      "source": [
        "Proportion de données toxique dans les données d'entrainement :"
      ]
    },
    {
      "cell_type": "code",
      "execution_count": null,
      "metadata": {
        "colab": {
          "base_uri": "https://localhost:8080/"
        },
        "id": "QOwwlvGfdbIV",
        "outputId": "7903e0b6-7905-4e52-d0ec-21d51989693b"
      },
      "outputs": [
        {
          "name": "stdout",
          "output_type": "stream",
          "text": [
            "Nombre de donnée totale :  159571\n"
          ]
        }
      ],
      "source": [
        "number_of_lines = data_train['toxic'].count()\n",
        "print('Nombre de donnée totale : ', number_of_lines)"
      ]
    },
    {
      "cell_type": "code",
      "execution_count": null,
      "metadata": {
        "colab": {
          "base_uri": "https://localhost:8080/"
        },
        "id": "dQfu0_Sy3P0s",
        "outputId": "18f353fe-5a38-4e68-ce6e-1f5cf663fea0"
      },
      "outputs": [
        {
          "name": "stdout",
          "output_type": "stream",
          "text": [
            "Proportion de données toxique dans les données d'entrainement (en nombre) :\n",
            " toxic            15294\n",
            "severe_toxic      1595\n",
            "obscene           8449\n",
            "threat             478\n",
            "insult            7877\n",
            "identity_hate     1405\n",
            "dtype: int64\n"
          ]
        }
      ],
      "source": [
        "print( \"Proportion de données toxique dans les données d'entrainement (en nombre) :\\n\",\n",
        "      data_train.drop(columns=['id', 'comment_text']).sum()\n",
        ")"
      ]
    },
    {
      "cell_type": "code",
      "execution_count": null,
      "metadata": {
        "colab": {
          "base_uri": "https://localhost:8080/"
        },
        "id": "AFdTMNteSaD3",
        "outputId": "6abb3e72-ddd5-4e18-e112-e46e2aceff80"
      },
      "outputs": [
        {
          "name": "stdout",
          "output_type": "stream",
          "text": [
            "Proportion de données toxique dans les données d'entrainement (en pourcentage) :\n",
            " toxic            9.584\n",
            "severe_toxic     1.000\n",
            "obscene          5.295\n",
            "threat           0.300\n",
            "insult           4.936\n",
            "identity_hate    0.880\n",
            "dtype: float64\n"
          ]
        }
      ],
      "source": [
        "print( \"Proportion de données toxique dans les données d'entrainement (en pourcentage) :\\n\",\n",
        "      (data_train.drop(columns=['id', 'comment_text']).sum() / number_of_lines * 100 ).round(3)\n",
        ")"
      ]
    },
    {
      "cell_type": "markdown",
      "metadata": {
        "id": "K8j6JdPJbg39"
      },
      "source": [
        "## 3.2 Les données de test\n",
        "\n",
        "On fait les mêmes analyses pour les données de test."
      ]
    },
    {
      "cell_type": "code",
      "execution_count": null,
      "metadata": {
        "colab": {
          "base_uri": "https://localhost:8080/",
          "height": 363
        },
        "id": "PbZ2t-DZB6wE",
        "outputId": "43163348-0525-4902-f028-4d1ba8ae70e9"
      },
      "outputs": [
        {
          "data": {
            "text/html": [
              "\n",
              "  <div id=\"df-664387d9-a99d-40f2-b1e2-09aaf6be488f\">\n",
              "    <div class=\"colab-df-container\">\n",
              "      <div>\n",
              "<style scoped>\n",
              "    .dataframe tbody tr th:only-of-type {\n",
              "        vertical-align: middle;\n",
              "    }\n",
              "\n",
              "    .dataframe tbody tr th {\n",
              "        vertical-align: top;\n",
              "    }\n",
              "\n",
              "    .dataframe thead th {\n",
              "        text-align: right;\n",
              "    }\n",
              "</style>\n",
              "<table border=\"1\" class=\"dataframe\">\n",
              "  <thead>\n",
              "    <tr style=\"text-align: right;\">\n",
              "      <th></th>\n",
              "      <th>id</th>\n",
              "      <th>comment_text</th>\n",
              "      <th>toxic</th>\n",
              "      <th>severe_toxic</th>\n",
              "      <th>obscene</th>\n",
              "      <th>threat</th>\n",
              "      <th>insult</th>\n",
              "      <th>identity_hate</th>\n",
              "    </tr>\n",
              "  </thead>\n",
              "  <tbody>\n",
              "    <tr>\n",
              "      <th>50</th>\n",
              "      <td>001421530a1aa622</td>\n",
              "      <td>I have been perfectly civil in what quite clea...</td>\n",
              "      <td>-1</td>\n",
              "      <td>-1</td>\n",
              "      <td>-1</td>\n",
              "      <td>-1</td>\n",
              "      <td>-1</td>\n",
              "      <td>-1</td>\n",
              "    </tr>\n",
              "    <tr>\n",
              "      <th>51</th>\n",
              "      <td>001426f56de6a49b</td>\n",
              "      <td>*I agree with Billfruge. The author describes ...</td>\n",
              "      <td>0</td>\n",
              "      <td>0</td>\n",
              "      <td>0</td>\n",
              "      <td>0</td>\n",
              "      <td>0</td>\n",
              "      <td>0</td>\n",
              "    </tr>\n",
              "    <tr>\n",
              "      <th>52</th>\n",
              "      <td>00148cabab3f0abd</td>\n",
              "      <td>==Category:Italian Jews== \\n\\n :Category:Itali...</td>\n",
              "      <td>-1</td>\n",
              "      <td>-1</td>\n",
              "      <td>-1</td>\n",
              "      <td>-1</td>\n",
              "      <td>-1</td>\n",
              "      <td>-1</td>\n",
              "    </tr>\n",
              "    <tr>\n",
              "      <th>53</th>\n",
              "      <td>0015d9af6dbc03c0</td>\n",
              "      <td>== Someday Never == \\n\\n Why was the image del...</td>\n",
              "      <td>-1</td>\n",
              "      <td>-1</td>\n",
              "      <td>-1</td>\n",
              "      <td>-1</td>\n",
              "      <td>-1</td>\n",
              "      <td>-1</td>\n",
              "    </tr>\n",
              "    <tr>\n",
              "      <th>54</th>\n",
              "      <td>00166b5f5bf2d758</td>\n",
              "      <td>\", 5 December 2012 (UTC) \\n\\n :::The above is,...</td>\n",
              "      <td>-1</td>\n",
              "      <td>-1</td>\n",
              "      <td>-1</td>\n",
              "      <td>-1</td>\n",
              "      <td>-1</td>\n",
              "      <td>-1</td>\n",
              "    </tr>\n",
              "    <tr>\n",
              "      <th>55</th>\n",
              "      <td>0016909ad784fe8d</td>\n",
              "      <td>\":I see that you moved  to Talat Hamdani. Perh...</td>\n",
              "      <td>-1</td>\n",
              "      <td>-1</td>\n",
              "      <td>-1</td>\n",
              "      <td>-1</td>\n",
              "      <td>-1</td>\n",
              "      <td>-1</td>\n",
              "    </tr>\n",
              "    <tr>\n",
              "      <th>56</th>\n",
              "      <td>0016b94c8b20ffa6</td>\n",
              "      <td>I WILL BURN YOU TO HELL IF YOU REVOKE MY TALK ...</td>\n",
              "      <td>0</td>\n",
              "      <td>0</td>\n",
              "      <td>0</td>\n",
              "      <td>0</td>\n",
              "      <td>0</td>\n",
              "      <td>0</td>\n",
              "    </tr>\n",
              "    <tr>\n",
              "      <th>57</th>\n",
              "      <td>0016ec04bb0f869a</td>\n",
              "      <td>== Hebrean-Judeo-Christian == \\n\\n What is Heb...</td>\n",
              "      <td>-1</td>\n",
              "      <td>-1</td>\n",
              "      <td>-1</td>\n",
              "      <td>-1</td>\n",
              "      <td>-1</td>\n",
              "      <td>-1</td>\n",
              "    </tr>\n",
              "    <tr>\n",
              "      <th>58</th>\n",
              "      <td>00177176f33f587e</td>\n",
              "      <td>== Can you work your magic? == \\n\\n Hi.  I was...</td>\n",
              "      <td>0</td>\n",
              "      <td>0</td>\n",
              "      <td>0</td>\n",
              "      <td>0</td>\n",
              "      <td>0</td>\n",
              "      <td>0</td>\n",
              "    </tr>\n",
              "    <tr>\n",
              "      <th>59</th>\n",
              "      <td>0017d4d47894af05</td>\n",
              "      <td>:Fuck off, you anti-semitic cunt.  |</td>\n",
              "      <td>1</td>\n",
              "      <td>0</td>\n",
              "      <td>1</td>\n",
              "      <td>0</td>\n",
              "      <td>1</td>\n",
              "      <td>0</td>\n",
              "    </tr>\n",
              "  </tbody>\n",
              "</table>\n",
              "</div>\n",
              "      <button class=\"colab-df-convert\" onclick=\"convertToInteractive('df-664387d9-a99d-40f2-b1e2-09aaf6be488f')\"\n",
              "              title=\"Convert this dataframe to an interactive table.\"\n",
              "              style=\"display:none;\">\n",
              "        \n",
              "  <svg xmlns=\"http://www.w3.org/2000/svg\" height=\"24px\"viewBox=\"0 0 24 24\"\n",
              "       width=\"24px\">\n",
              "    <path d=\"M0 0h24v24H0V0z\" fill=\"none\"/>\n",
              "    <path d=\"M18.56 5.44l.94 2.06.94-2.06 2.06-.94-2.06-.94-.94-2.06-.94 2.06-2.06.94zm-11 1L8.5 8.5l.94-2.06 2.06-.94-2.06-.94L8.5 2.5l-.94 2.06-2.06.94zm10 10l.94 2.06.94-2.06 2.06-.94-2.06-.94-.94-2.06-.94 2.06-2.06.94z\"/><path d=\"M17.41 7.96l-1.37-1.37c-.4-.4-.92-.59-1.43-.59-.52 0-1.04.2-1.43.59L10.3 9.45l-7.72 7.72c-.78.78-.78 2.05 0 2.83L4 21.41c.39.39.9.59 1.41.59.51 0 1.02-.2 1.41-.59l7.78-7.78 2.81-2.81c.8-.78.8-2.07 0-2.86zM5.41 20L4 18.59l7.72-7.72 1.47 1.35L5.41 20z\"/>\n",
              "  </svg>\n",
              "      </button>\n",
              "      \n",
              "  <style>\n",
              "    .colab-df-container {\n",
              "      display:flex;\n",
              "      flex-wrap:wrap;\n",
              "      gap: 12px;\n",
              "    }\n",
              "\n",
              "    .colab-df-convert {\n",
              "      background-color: #E8F0FE;\n",
              "      border: none;\n",
              "      border-radius: 50%;\n",
              "      cursor: pointer;\n",
              "      display: none;\n",
              "      fill: #1967D2;\n",
              "      height: 32px;\n",
              "      padding: 0 0 0 0;\n",
              "      width: 32px;\n",
              "    }\n",
              "\n",
              "    .colab-df-convert:hover {\n",
              "      background-color: #E2EBFA;\n",
              "      box-shadow: 0px 1px 2px rgba(60, 64, 67, 0.3), 0px 1px 3px 1px rgba(60, 64, 67, 0.15);\n",
              "      fill: #174EA6;\n",
              "    }\n",
              "\n",
              "    [theme=dark] .colab-df-convert {\n",
              "      background-color: #3B4455;\n",
              "      fill: #D2E3FC;\n",
              "    }\n",
              "\n",
              "    [theme=dark] .colab-df-convert:hover {\n",
              "      background-color: #434B5C;\n",
              "      box-shadow: 0px 1px 3px 1px rgba(0, 0, 0, 0.15);\n",
              "      filter: drop-shadow(0px 1px 2px rgba(0, 0, 0, 0.3));\n",
              "      fill: #FFFFFF;\n",
              "    }\n",
              "  </style>\n",
              "\n",
              "      <script>\n",
              "        const buttonEl =\n",
              "          document.querySelector('#df-664387d9-a99d-40f2-b1e2-09aaf6be488f button.colab-df-convert');\n",
              "        buttonEl.style.display =\n",
              "          google.colab.kernel.accessAllowed ? 'block' : 'none';\n",
              "\n",
              "        async function convertToInteractive(key) {\n",
              "          const element = document.querySelector('#df-664387d9-a99d-40f2-b1e2-09aaf6be488f');\n",
              "          const dataTable =\n",
              "            await google.colab.kernel.invokeFunction('convertToInteractive',\n",
              "                                                     [key], {});\n",
              "          if (!dataTable) return;\n",
              "\n",
              "          const docLinkHtml = 'Like what you see? Visit the ' +\n",
              "            '<a target=\"_blank\" href=https://colab.research.google.com/notebooks/data_table.ipynb>data table notebook</a>'\n",
              "            + ' to learn more about interactive tables.';\n",
              "          element.innerHTML = '';\n",
              "          dataTable['output_type'] = 'display_data';\n",
              "          await google.colab.output.renderOutput(dataTable, element);\n",
              "          const docLink = document.createElement('div');\n",
              "          docLink.innerHTML = docLinkHtml;\n",
              "          element.appendChild(docLink);\n",
              "        }\n",
              "      </script>\n",
              "    </div>\n",
              "  </div>\n",
              "  "
            ],
            "text/plain": [
              "                  id                                       comment_text  \\\n",
              "50  001421530a1aa622  I have been perfectly civil in what quite clea...   \n",
              "51  001426f56de6a49b  *I agree with Billfruge. The author describes ...   \n",
              "52  00148cabab3f0abd  ==Category:Italian Jews== \\n\\n :Category:Itali...   \n",
              "53  0015d9af6dbc03c0  == Someday Never == \\n\\n Why was the image del...   \n",
              "54  00166b5f5bf2d758  \", 5 December 2012 (UTC) \\n\\n :::The above is,...   \n",
              "55  0016909ad784fe8d  \":I see that you moved  to Talat Hamdani. Perh...   \n",
              "56  0016b94c8b20ffa6  I WILL BURN YOU TO HELL IF YOU REVOKE MY TALK ...   \n",
              "57  0016ec04bb0f869a  == Hebrean-Judeo-Christian == \\n\\n What is Heb...   \n",
              "58  00177176f33f587e  == Can you work your magic? == \\n\\n Hi.  I was...   \n",
              "59  0017d4d47894af05               :Fuck off, you anti-semitic cunt.  |   \n",
              "\n",
              "    toxic  severe_toxic  obscene  threat  insult  identity_hate  \n",
              "50     -1            -1       -1      -1      -1             -1  \n",
              "51      0             0        0       0       0              0  \n",
              "52     -1            -1       -1      -1      -1             -1  \n",
              "53     -1            -1       -1      -1      -1             -1  \n",
              "54     -1            -1       -1      -1      -1             -1  \n",
              "55     -1            -1       -1      -1      -1             -1  \n",
              "56      0             0        0       0       0              0  \n",
              "57     -1            -1       -1      -1      -1             -1  \n",
              "58      0             0        0       0       0              0  \n",
              "59      1             0        1       0       1              0  "
            ]
          },
          "execution_count": 11,
          "metadata": {},
          "output_type": "execute_result"
        }
      ],
      "source": [
        "data_test[50:60]"
      ]
    },
    {
      "cell_type": "markdown",
      "metadata": {
        "id": "Zs9SpomWB6wg"
      },
      "source": [
        "La valeur -1 que l’on peut retrouver sur certain ligne indique que le commentaire n’a pas été utilisé. On les supprimera lors de la préparation des données.\n",
        "\n",
        "Commentaires type :"
      ]
    },
    {
      "cell_type": "code",
      "execution_count": null,
      "metadata": {
        "colab": {
          "base_uri": "https://localhost:8080/",
          "height": 53
        },
        "id": "wNXpy3Xh-fLj",
        "outputId": "2b6d05ee-a316-4c0e-e3b5-8d6dcf228e0c"
      },
      "outputs": [
        {
          "data": {
            "application/vnd.google.colaboratory.intrinsic+json": {
              "type": "string"
            },
            "text/plain": [
              "\"== Can you work your magic? == \\n\\n Hi.  I was wondring if you had time to help out with Wikipedia:Featured article candidates/W. E. B. Du Bois/archive1.  Any input would be appreciated:  a quick scan or a full review.  I've noticed your work before and I respect your skills. Thanks.\""
            ]
          },
          "execution_count": 12,
          "metadata": {},
          "output_type": "execute_result"
        }
      ],
      "source": [
        "data_test['comment_text'][58]"
      ]
    },
    {
      "cell_type": "code",
      "execution_count": null,
      "metadata": {
        "colab": {
          "base_uri": "https://localhost:8080/"
        },
        "id": "iOX_5YxG-fL9",
        "outputId": "9ec9b1eb-0245-46fa-c856-f6b74b618b25"
      },
      "outputs": [
        {
          "data": {
            "text/plain": [
              "50    I have been perfectly civil in what quite clea...\n",
              "51    *I agree with Billfruge. The author describes ...\n",
              "52    ==Category:Italian Jews== \\n\\n :Category:Itali...\n",
              "53    == Someday Never == \\n\\n Why was the image del...\n",
              "54    \", 5 December 2012 (UTC) \\n\\n :::The above is,...\n",
              "55    \":I see that you moved  to Talat Hamdani. Perh...\n",
              "56    I WILL BURN YOU TO HELL IF YOU REVOKE MY TALK ...\n",
              "57    == Hebrean-Judeo-Christian == \\n\\n What is Heb...\n",
              "58    == Can you work your magic? == \\n\\n Hi.  I was...\n",
              "59                 :Fuck off, you anti-semitic cunt.  |\n",
              "Name: comment_text, dtype: object"
            ]
          },
          "execution_count": 13,
          "metadata": {},
          "output_type": "execute_result"
        }
      ],
      "source": [
        "data_test['comment_text'][50:60]"
      ]
    },
    {
      "cell_type": "markdown",
      "metadata": {
        "id": "VpVQO16l-fL_"
      },
      "source": [
        "Proportion de données toxique dans les données de test :"
      ]
    },
    {
      "cell_type": "code",
      "execution_count": null,
      "metadata": {
        "colab": {
          "base_uri": "https://localhost:8080/"
        },
        "id": "EryWCA3b-fL_",
        "outputId": "6de67258-0670-4cb1-8ebc-eeca3236c433"
      },
      "outputs": [
        {
          "name": "stdout",
          "output_type": "stream",
          "text": [
            "Nombre de donnée totale :  153164\n"
          ]
        }
      ],
      "source": [
        "number_of_lines = data_test['toxic'].count()\n",
        "print('Nombre de donnée totale : ', number_of_lines)"
      ]
    },
    {
      "cell_type": "code",
      "execution_count": 7,
      "metadata": {
        "colab": {
          "base_uri": "https://localhost:8080/"
        },
        "id": "-adi__NBvPkv",
        "outputId": "79553825-baa9-449a-c1b2-7a88ed3e7a32"
      },
      "outputs": [
        {
          "name": "stdout",
          "output_type": "stream",
          "text": [
            "Nombre de données totales exploitables (sans les -1) :  63978\n"
          ]
        }
      ],
      "source": [
        "number_of_lines = data_test[data_test['toxic'] >= 0]['toxic'].count()\n",
        "print('Nombre de données totales exploitables (sans les -1) : ', number_of_lines)"
      ]
    },
    {
      "cell_type": "code",
      "execution_count": 8,
      "metadata": {
        "colab": {
          "base_uri": "https://localhost:8080/"
        },
        "id": "IUJNgxoP-fMA",
        "outputId": "0a060866-08aa-4b4d-8b70-ad5bec1e90a2"
      },
      "outputs": [
        {
          "name": "stdout",
          "output_type": "stream",
          "text": [
            "Proportion de données toxique dans les données de test (en nombre) :\n",
            " toxic            6090\n",
            "severe_toxic      367\n",
            "obscene          3691\n",
            "threat            211\n",
            "insult           3427\n",
            "identity_hate     712\n",
            "dtype: int64\n"
          ]
        }
      ],
      "source": [
        "print( \"Proportion de données toxique dans les données de test (en nombre) :\\n\",\n",
        "      data_test.drop(columns=['id', 'comment_text'])[data_test['toxic'] >= 0].sum()\n",
        ")"
      ]
    },
    {
      "cell_type": "code",
      "execution_count": 9,
      "metadata": {
        "colab": {
          "base_uri": "https://localhost:8080/"
        },
        "id": "eAkVZ1Ec-fMA",
        "outputId": "08b26b4d-e64d-4275-d40e-54e7a4ffe721"
      },
      "outputs": [
        {
          "name": "stdout",
          "output_type": "stream",
          "text": [
            "Proportion de données toxique dans les données de test (en pourcentage) :\n",
            " toxic            9.519\n",
            "severe_toxic     0.574\n",
            "obscene          5.769\n",
            "threat           0.330\n",
            "insult           5.357\n",
            "identity_hate    1.113\n",
            "dtype: float64\n"
          ]
        }
      ],
      "source": [
        "print( \"Proportion de données toxique dans les données de test (en pourcentage) :\\n\",\n",
        "      (data_test.drop(columns=['id', 'comment_text'])[data_test['toxic'] >= 0].sum() / number_of_lines * 100 ).round(3)\n",
        ")"
      ]
    },
    {
      "cell_type": "markdown",
      "metadata": {
        "id": "YIzpSrAjSsAM"
      },
      "source": [
        "# 4. Préparation des données"
      ]
    },
    {
      "cell_type": "markdown",
      "metadata": {
        "id": "FNpY_oJ1KjWc"
      },
      "source": [
        "## 4.1 Création des fonctions"
      ]
    },
    {
      "cell_type": "markdown",
      "metadata": {
        "id": "Ed3EnuTEL0wd"
      },
      "source": [
        "Récupère les stopwords et le tokenizer"
      ]
    },
    {
      "cell_type": "code",
      "execution_count": null,
      "metadata": {
        "colab": {
          "base_uri": "https://localhost:8080/"
        },
        "id": "1WMk85t8S_zX",
        "outputId": "fc441216-1778-424b-fccb-b17733827228"
      },
      "outputs": [
        {
          "name": "stderr",
          "output_type": "stream",
          "text": [
            "[nltk_data] Downloading package stopwords to /root/nltk_data...\n",
            "[nltk_data]   Unzipping corpora/stopwords.zip.\n"
          ]
        }
      ],
      "source": [
        "tokenizer = TweetTokenizer(strip_handles=True)\n",
        "nltk.download('stopwords')\n",
        "stop_words = nltk.corpus.stopwords.words('english')\n",
        "corpus = []"
      ]
    },
    {
      "cell_type": "markdown",
      "metadata": {
        "id": "z4z2klncJCEQ"
      },
      "source": [
        "On crée une fonction prepare_string() pour nettoyer facilement les commentaires (retirer les abbréviations, homogénéiser les expressions, etc…) "
      ]
    },
    {
      "cell_type": "code",
      "execution_count": null,
      "metadata": {
        "id": "74MXPhDeSOyV"
      },
      "outputs": [],
      "source": [
        "def clean(tweet): \n",
        "            \n",
        "    # Contractions\n",
        "    tweet = re.sub(r\"he's\", \"he is\", tweet)\n",
        "    tweet = re.sub(r\"there's\", \"there is\", tweet)\n",
        "    tweet = re.sub(r\"We're\", \"We are\", tweet)\n",
        "    tweet = re.sub(r\"That's\", \"That is\", tweet)\n",
        "    tweet = re.sub(r\"won't\", \"will not\", tweet)\n",
        "    tweet = re.sub(r\"they're\", \"they are\", tweet)\n",
        "    tweet = re.sub(r\"Can't\", \"Cannot\", tweet)\n",
        "    tweet = re.sub(r\"wasn't\", \"was not\", tweet)\n",
        "    tweet = re.sub(r\"don\\x89Ûªt\", \"do not\", tweet)\n",
        "    tweet = re.sub(r\"aren't\", \"are not\", tweet)\n",
        "    tweet = re.sub(r\"isn't\", \"is not\", tweet)\n",
        "    tweet = re.sub(r\"What's\", \"What is\", tweet)\n",
        "    tweet = re.sub(r\"haven't\", \"have not\", tweet)\n",
        "    tweet = re.sub(r\"hasn't\", \"has not\", tweet)\n",
        "    tweet = re.sub(r\"There's\", \"There is\", tweet)\n",
        "    tweet = re.sub(r\"He's\", \"He is\", tweet)\n",
        "    tweet = re.sub(r\"It's\", \"It is\", tweet)\n",
        "    tweet = re.sub(r\"You're\", \"You are\", tweet)\n",
        "    tweet = re.sub(r\"I'M\", \"I am\", tweet)\n",
        "    tweet = re.sub(r\"shouldn't\", \"should not\", tweet)\n",
        "    tweet = re.sub(r\"wouldn't\", \"would not\", tweet)\n",
        "    tweet = re.sub(r\"i'm\", \"I am\", tweet)\n",
        "    tweet = re.sub(r\"I\\x89Ûªm\", \"I am\", tweet)\n",
        "    tweet = re.sub(r\"I'm\", \"I am\", tweet)\n",
        "    tweet = re.sub(r\"Isn't\", \"is not\", tweet)\n",
        "    tweet = re.sub(r\"Here's\", \"Here is\", tweet)\n",
        "    tweet = re.sub(r\"you've\", \"you have\", tweet)\n",
        "    tweet = re.sub(r\"you\\x89Ûªve\", \"you have\", tweet)\n",
        "    tweet = re.sub(r\"we're\", \"we are\", tweet)\n",
        "    tweet = re.sub(r\"what's\", \"what is\", tweet)\n",
        "    tweet = re.sub(r\"couldn't\", \"could not\", tweet)\n",
        "    tweet = re.sub(r\"we've\", \"we have\", tweet)\n",
        "    tweet = re.sub(r\"it\\x89Ûªs\", \"it is\", tweet)\n",
        "    tweet = re.sub(r\"doesn\\x89Ûªt\", \"does not\", tweet)\n",
        "    tweet = re.sub(r\"It\\x89Ûªs\", \"It is\", tweet)\n",
        "    tweet = re.sub(r\"Here\\x89Ûªs\", \"Here is\", tweet)\n",
        "    tweet = re.sub(r\"who's\", \"who is\", tweet)\n",
        "    tweet = re.sub(r\"I\\x89Ûªve\", \"I have\", tweet)\n",
        "    tweet = re.sub(r\"y'all\", \"you all\", tweet)\n",
        "    tweet = re.sub(r\"can\\x89Ûªt\", \"cannot\", tweet)\n",
        "    tweet = re.sub(r\"would've\", \"would have\", tweet)\n",
        "    tweet = re.sub(r\"it'll\", \"it will\", tweet)\n",
        "    tweet = re.sub(r\"we'll\", \"we will\", tweet)\n",
        "    tweet = re.sub(r\"wouldn\\x89Ûªt\", \"would not\", tweet)\n",
        "    tweet = re.sub(r\"We've\", \"We have\", tweet)\n",
        "    tweet = re.sub(r\"he'll\", \"he will\", tweet)\n",
        "    tweet = re.sub(r\"Y'all\", \"You all\", tweet)\n",
        "    tweet = re.sub(r\"Weren't\", \"Were not\", tweet)\n",
        "    tweet = re.sub(r\"Didn't\", \"Did not\", tweet)\n",
        "    tweet = re.sub(r\"they'll\", \"they will\", tweet)\n",
        "    tweet = re.sub(r\"they'd\", \"they would\", tweet)\n",
        "    tweet = re.sub(r\"DON'T\", \"DO NOT\", tweet)\n",
        "    tweet = re.sub(r\"That\\x89Ûªs\", \"That is\", tweet)\n",
        "    tweet = re.sub(r\"they've\", \"they have\", tweet)\n",
        "    tweet = re.sub(r\"i'd\", \"I would\", tweet)\n",
        "    tweet = re.sub(r\"should've\", \"should have\", tweet)\n",
        "    tweet = re.sub(r\"You\\x89Ûªre\", \"You are\", tweet)\n",
        "    tweet = re.sub(r\"where's\", \"where is\", tweet)\n",
        "    tweet = re.sub(r\"Don\\x89Ûªt\", \"Do not\", tweet)\n",
        "    tweet = re.sub(r\"we'd\", \"we would\", tweet)\n",
        "    tweet = re.sub(r\"i'll\", \"I will\", tweet)\n",
        "    tweet = re.sub(r\"weren't\", \"were not\", tweet)\n",
        "    tweet = re.sub(r\"They're\", \"They are\", tweet)\n",
        "    tweet = re.sub(r\"Can\\x89Ûªt\", \"Cannot\", tweet)\n",
        "    tweet = re.sub(r\"you\\x89Ûªll\", \"you will\", tweet)\n",
        "    tweet = re.sub(r\"I\\x89Ûªd\", \"I would\", tweet)\n",
        "    tweet = re.sub(r\"let's\", \"let us\", tweet)\n",
        "    tweet = re.sub(r\"it's\", \"it is\", tweet)\n",
        "    tweet = re.sub(r\"can't\", \"cannot\", tweet)\n",
        "    tweet = re.sub(r\"don't\", \"do not\", tweet)\n",
        "    tweet = re.sub(r\"you're\", \"you are\", tweet)\n",
        "    tweet = re.sub(r\"i've\", \"I have\", tweet)\n",
        "    tweet = re.sub(r\"that's\", \"that is\", tweet)\n",
        "    tweet = re.sub(r\"i'll\", \"I will\", tweet)\n",
        "    tweet = re.sub(r\"doesn't\", \"does not\", tweet)\n",
        "    tweet = re.sub(r\"i'd\", \"I would\", tweet)\n",
        "    tweet = re.sub(r\"didn't\", \"did not\", tweet)\n",
        "    tweet = re.sub(r\"ain't\", \"am not\", tweet)\n",
        "    tweet = re.sub(r\"you'll\", \"you will\", tweet)\n",
        "    tweet = re.sub(r\"I've\", \"I have\", tweet)\n",
        "    tweet = re.sub(r\"Don't\", \"do not\", tweet)\n",
        "    tweet = re.sub(r\"I'll\", \"I will\", tweet)\n",
        "    tweet = re.sub(r\"I'd\", \"I would\", tweet)\n",
        "    tweet = re.sub(r\"Let's\", \"Let us\", tweet)\n",
        "    tweet = re.sub(r\"you'd\", \"You would\", tweet)\n",
        "    tweet = re.sub(r\"It's\", \"It is\", tweet)\n",
        "    tweet = re.sub(r\"Ain't\", \"am not\", tweet)\n",
        "    tweet = re.sub(r\"Haven't\", \"Have not\", tweet)\n",
        "    tweet = re.sub(r\"Could've\", \"Could have\", tweet)\n",
        "    tweet = re.sub(r\"youve\", \"you have\", tweet)  \n",
        "    tweet = re.sub(r\"donå«t\", \"do not\", tweet)  \n",
        "    \n",
        "    tweet = re.sub(r\"some1\", \"someone\", tweet)\n",
        "    tweet = re.sub(r\"yrs\", \"years\", tweet)\n",
        "    tweet = re.sub(r\"hrs\", \"hours\", tweet)\n",
        "    tweet = re.sub(r\"2morow|2moro\", \"tomorrow\", tweet)\n",
        "    tweet = re.sub(r\"2day\", \"today\", tweet)\n",
        "    tweet = re.sub(r\"4got|4gotten\", \"forget\", tweet)\n",
        "    tweet = re.sub(r\"b-day|bday\", \"b-day\", tweet)\n",
        "    tweet = re.sub(r\"mother's\", \"mother\", tweet)\n",
        "    tweet = re.sub(r\"mom's\", \"mom\", tweet)\n",
        "    tweet = re.sub(r\"dad's\", \"dad\", tweet)\n",
        "    tweet = re.sub(r\"hahah|hahaha|hahahaha\", \"haha\", tweet)\n",
        "    tweet = re.sub(r\"lmao|lolz|rofl\", \"lol\", tweet)\n",
        "    tweet = re.sub(r\"thanx|thnx\", \"thanks\", tweet)\n",
        "    tweet = re.sub(r\"goood\", \"good\", tweet)\n",
        "    tweet = re.sub(r\"some1\", \"someone\", tweet)\n",
        "    tweet = re.sub(r\"some1\", \"someone\", tweet)\n",
        "    # Character entity references\n",
        "    tweet = re.sub(r\"&gt;\", \">\", tweet)\n",
        "    tweet = re.sub(r\"&lt;\", \"<\", tweet)\n",
        "    tweet = re.sub(r\"&amp;\", \"&\", tweet)\n",
        "    # Typos, slang and informal abbreviations\n",
        "    tweet = re.sub(r\"w/e\", \"whatever\", tweet)\n",
        "    tweet = re.sub(r\"w/\", \"with\", tweet)\n",
        "    tweet = re.sub(r\"<3\", \"love\", tweet)\n",
        "    # Urls\n",
        "    tweet = re.sub(r\"http\\S+\", \"\", tweet)\n",
        "    # Numbers\n",
        "    tweet = re.sub(r'[0-9]', '', tweet)\n",
        "    # Eliminating the mentions\n",
        "    tweet = re.sub(\"(@[A-Za-z0-9_]+)\",\"\", tweet)\n",
        "    # Remove punctuation and special chars (keep '!')\n",
        "    for p in string.punctuation.replace('!', ''):\n",
        "        tweet = tweet.replace(p, '')\n",
        "        \n",
        "    # ... and ..\n",
        "    tweet = tweet.replace('...', ' ... ')\n",
        "    if '...' not in tweet:\n",
        "        tweet = tweet.replace('..', ' ... ')\n",
        "        \n",
        "    # Tokenize\n",
        "    tweet_words = tokenizer.tokenize(tweet)\n",
        "    \n",
        "    # Eliminating the word if its length is less than 3\n",
        "    tweet = [w for w in tweet_words if len(w)>2]\n",
        "    \n",
        "    # remove stopwords\n",
        "    tweet = [w.lower() for w in tweet if not w in stop_words]  \n",
        "    \n",
        "    corpus.append(tweet)\n",
        "    \n",
        "    # join back\n",
        "    tweet = ' '.join(tweet)\n",
        "        \n",
        "        \n",
        "    return tweet"
      ]
    },
    {
      "cell_type": "code",
      "execution_count": null,
      "metadata": {
        "id": "jYRcB1YDS4KB"
      },
      "outputs": [],
      "source": [
        "variable_name = \"\"\n",
        "abbreviations = {\n",
        "    \"$\" : \" dollar \",\n",
        "    \"€\" : \" euro \",\n",
        "    \"4ao\" : \"for adults only\",\n",
        "    \"a.m\" : \"before midday\",\n",
        "    \"a3\" : \"anytime anywhere anyplace\",\n",
        "    \"aamof\" : \"as a matter of fact\",\n",
        "    \"acct\" : \"account\",\n",
        "    \"adih\" : \"another day in hell\",\n",
        "    \"afaic\" : \"as far as i am concerned\",\n",
        "    \"afaict\" : \"as far as i can tell\",\n",
        "    \"afaik\" : \"as far as i know\",\n",
        "    \"afair\" : \"as far as i remember\",\n",
        "    \"afk\" : \"away from keyboard\",\n",
        "    \"app\" : \"application\",\n",
        "    \"approx\" : \"approximately\",\n",
        "    \"apps\" : \"applications\",\n",
        "    \"asap\" : \"as soon as possible\",\n",
        "    \"asl\" : \"age, sex, location\",\n",
        "    \"atk\" : \"at the keyboard\",\n",
        "    \"ave.\" : \"avenue\",\n",
        "    \"aymm\" : \"are you my mother\",\n",
        "    \"ayor\" : \"at your own risk\", \n",
        "    \"b&b\" : \"bed and breakfast\",\n",
        "    \"b+b\" : \"bed and breakfast\",\n",
        "    \"b.c\" : \"before christ\",\n",
        "    \"b2b\" : \"business to business\",\n",
        "    \"b2c\" : \"business to customer\",\n",
        "    \"b4\" : \"before\",\n",
        "    \"b4n\" : \"bye for now\",\n",
        "    \"b@u\" : \"back at you\",\n",
        "    \"bae\" : \"before anyone else\",\n",
        "    \"bak\" : \"back at keyboard\",\n",
        "    \"bbbg\" : \"bye bye be good\",\n",
        "    \"bbc\" : \"british broadcasting corporation\",\n",
        "    \"bbias\" : \"be back in a second\",\n",
        "    \"bbl\" : \"be back later\",\n",
        "    \"bbs\" : \"be back soon\",\n",
        "    \"be4\" : \"before\",\n",
        "    \"bfn\" : \"bye for now\",\n",
        "    \"blvd\" : \"boulevard\",\n",
        "    \"bout\" : \"about\",\n",
        "    \"brb\" : \"be right back\",\n",
        "    \"bros\" : \"brothers\",\n",
        "    \"brt\" : \"be right there\",\n",
        "    \"bsaaw\" : \"big smile and a wink\",\n",
        "    \"btw\" : \"by the way\",\n",
        "    \"bwl\" : \"bursting with laughter\",\n",
        "    \"c/o\" : \"care of\",\n",
        "    \"cet\" : \"central european time\",\n",
        "    \"cf\" : \"compare\",\n",
        "    \"cia\" : \"central intelligence agency\",\n",
        "    \"csl\" : \"can not stop laughing\",\n",
        "    \"cu\" : \"see you\",\n",
        "    \"cul8r\" : \"see you later\",\n",
        "    \"cv\" : \"curriculum vitae\",\n",
        "    \"cwot\" : \"complete waste of time\",\n",
        "    \"cya\" : \"see you\",\n",
        "    \"cyt\" : \"see you tomorrow\",\n",
        "    \"dae\" : \"does anyone else\",\n",
        "    \"dbmib\" : \"do not bother me i am busy\",\n",
        "    \"diy\" : \"do it yourself\",\n",
        "    \"dm\" : \"direct message\",\n",
        "    \"dwh\" : \"during work hours\",\n",
        "    \"e123\" : \"easy as one two three\",\n",
        "    \"eet\" : \"eastern european time\",\n",
        "    \"eg\" : \"example\",\n",
        "    \"embm\" : \"early morning business meeting\",\n",
        "    \"encl\" : \"enclosed\",\n",
        "    \"encl.\" : \"enclosed\",\n",
        "    \"etc\" : \"and so on\",\n",
        "    \"faq\" : \"frequently asked questions\",\n",
        "    \"fawc\" : \"for anyone who cares\",\n",
        "    \"fb\" : \"facebook\",\n",
        "    \"fc\" : \"fingers crossed\",\n",
        "    \"fig\" : \"figure\",\n",
        "    \"fimh\" : \"forever in my heart\", \n",
        "    \"ft.\" : \"feet\",\n",
        "    \"ft\" : \"featuring\",\n",
        "    \"ftl\" : \"for the loss\",\n",
        "    \"ftw\" : \"for the win\",\n",
        "    \"fwiw\" : \"for what it is worth\",\n",
        "    \"fyi\" : \"for your information\",\n",
        "    \"g9\" : \"genius\",\n",
        "    \"gahoy\" : \"get a hold of yourself\",\n",
        "    \"gal\" : \"get a life\",\n",
        "    \"gcse\" : \"general certificate of secondary education\",\n",
        "    \"gfn\" : \"gone for now\",\n",
        "    \"gg\" : \"good game\",\n",
        "    \"gl\" : \"good luck\",\n",
        "    \"glhf\" : \"good luck have fun\",\n",
        "    \"gmt\" : \"greenwich mean time\",\n",
        "    \"gmta\" : \"great minds think alike\",\n",
        "    \"gn\" : \"good night\",\n",
        "    \"g.o.a.t\" : \"greatest of all time\",\n",
        "    \"goat\" : \"greatest of all time\",\n",
        "    \"goi\" : \"get over it\",\n",
        "    \"gps\" : \"global positioning system\",\n",
        "    \"gr8\" : \"great\",\n",
        "    \"gratz\" : \"congratulations\",\n",
        "    \"gyal\" : \"girl\",\n",
        "    \"h&c\" : \"hot and cold\",\n",
        "    \"hp\" : \"horsepower\",\n",
        "    \"hr\" : \"hour\",\n",
        "    \"hrh\" : \"his royal highness\",\n",
        "    \"ht\" : \"height\",\n",
        "    \"ibrb\" : \"i will be right back\",\n",
        "    \"ic\" : \"i see\",\n",
        "    \"icq\" : \"i seek you\",\n",
        "    \"icymi\" : \"in case you missed it\",\n",
        "    \"idc\" : \"i do not care\",\n",
        "    \"idgadf\" : \"i do not give a damn fuck\",\n",
        "    \"idgaf\" : \"i do not give a fuck\",\n",
        "    \"idk\" : \"i do not know\",\n",
        "    \"ie\" : \"that is\",\n",
        "    \"i.e\" : \"that is\",\n",
        "    \"ifyp\" : \"i feel your pain\",\n",
        "    \"IG\" : \"instagram\",\n",
        "    \"iirc\" : \"if i remember correctly\",\n",
        "    \"ilu\" : \"i love you\",\n",
        "    \"ily\" : \"i love you\",\n",
        "    \"imho\" : \"in my humble opinion\",\n",
        "    \"imo\" : \"in my opinion\",\n",
        "    \"imu\" : \"i miss you\",\n",
        "    \"iow\" : \"in other words\",\n",
        "    \"irl\" : \"in real life\",\n",
        "    \"j4f\" : \"just for fun\",\n",
        "    \"jic\" : \"just in case\",\n",
        "    \"jk\" : \"just kidding\",\n",
        "    \"jsyk\" : \"just so you know\",\n",
        "    \"l8r\" : \"later\",\n",
        "    \"lb\" : \"pound\",\n",
        "    \"lbs\" : \"pounds\",\n",
        "    \"ldr\" : \"long distance relationship\",\n",
        "    \"lmao\" : \"laugh my ass off\",\n",
        "    \"lmfao\" : \"laugh my fucking ass off\",\n",
        "    \"lol\" : \"laughing out loud\",\n",
        "    \"ltd\" : \"limited\",\n",
        "    \"ltns\" : \"long time no see\",\n",
        "    \"m8\" : \"mate\",\n",
        "    \"mf\" : \"motherfucker\",\n",
        "    \"mfs\" : \"motherfuckers\",\n",
        "    \"mfw\" : \"my face when\",\n",
        "    \"mofo\" : \"motherfucker\",\n",
        "    \"mph\" : \"miles per hour\",\n",
        "    \"mr\" : \"mister\",\n",
        "    \"mrw\" : \"my reaction when\",\n",
        "    \"ms\" : \"miss\",\n",
        "    \"mte\" : \"my thoughts exactly\",\n",
        "    \"nagi\" : \"not a good idea\",\n",
        "    \"nbc\" : \"national broadcasting company\",\n",
        "    \"nbd\" : \"not big deal\",\n",
        "    \"nfs\" : \"not for sale\",\n",
        "    \"ngl\" : \"not going to lie\",\n",
        "    \"nhs\" : \"national health service\",\n",
        "    \"nrn\" : \"no reply necessary\",\n",
        "    \"nsfl\" : \"not safe for life\",\n",
        "    \"nsfw\" : \"not safe for work\",\n",
        "    \"nth\" : \"nice to have\",\n",
        "    \"nvr\" : \"never\",\n",
        "    \"nyc\" : \"new york city\",\n",
        "    \"oc\" : \"original content\",\n",
        "    \"og\" : \"original\",\n",
        "    \"ohp\" : \"overhead projector\",\n",
        "    \"oic\" : \"oh i see\",\n",
        "    \"omdb\" : \"over my dead body\",\n",
        "    \"omg\" : \"oh my god\",\n",
        "    \"omw\" : \"on my way\",\n",
        "    \"p.a\" : \"per annum\",\n",
        "    \"p.m\" : \"after midday\",\n",
        "    \"pm\" : \"prime minister\",\n",
        "    \"poc\" : \"people of color\",\n",
        "    \"pov\" : \"point of view\",\n",
        "    \"pp\" : \"pages\",\n",
        "    \"ppl\" : \"people\",\n",
        "    \"prw\" : \"parents are watching\",\n",
        "    \"ps\" : \"postscript\",\n",
        "    \"pt\" : \"point\",\n",
        "    \"ptb\" : \"please text back\",\n",
        "    \"pto\" : \"please turn over\",\n",
        "    \"qpsa\" : \"what happens\", \n",
        "    \"ratchet\" : \"rude\",\n",
        "    \"rbtl\" : \"read between the lines\",\n",
        "    \"rlrt\" : \"real life retweet\", \n",
        "    \"rofl\" : \"rolling on the floor laughing\",\n",
        "    \"roflol\" : \"rolling on the floor laughing out loud\",\n",
        "    \"rotflmao\" : \"rolling on the floor laughing my ass off\",\n",
        "    \"rt\" : \"retweet\",\n",
        "    \"ruok\" : \"are you ok\",\n",
        "    \"sfw\" : \"safe for work\",\n",
        "     \"sk8\" : \"skate\",\n",
        "    \"smh\" : \"shake my head\",\n",
        "    \"sq\" : \"square\",\n",
        "    \"srsly\" : \"seriously\", \n",
        "    \"ssdd\" : \"same stuff different day\",\n",
        "    \"tbh\" : \"to be honest\",\n",
        "    \"tbs\" : \"tablespooful\",\n",
        "    \"tbsp\" : \"tablespooful\",\n",
        "    \"tfw\" : \"that feeling when\",\n",
        "    \"thks\" : \"thank you\",\n",
        "    \"tho\" : \"though\",\n",
        "    \"thx\" : \"thank you\",\n",
        "    \"tia\" : \"thanks in advance\",\n",
        "    \"til\" : \"today i learned\",\n",
        "    \"tl;dr\" : \"too long i did not read\",\n",
        "    \"tldr\" : \"too long i did not read\",\n",
        "    \"tmb\" : \"tweet me back\",\n",
        "    \"tntl\" : \"trying not to laugh\",\n",
        "    \"ttyl\" : \"talk to you later\",\n",
        "    \"u\" : \"you\",\n",
        "    \"u2\" : \"you too\",\n",
        "    \"u4e\" : \"yours for ever\",\n",
        "    \"utc\" : \"coordinated universal time\",\n",
        "    \"w/\" : \"with\",\n",
        "    \"w/o\" : \"without\",\n",
        "    \"w8\" : \"wait\",\n",
        "    \"wassup\" : \"what is up\",\n",
        "    \"wb\" : \"welcome back\",\n",
        "    \"wtf\" : \"what the fuck\",\n",
        "    \"wtg\" : \"way to go\",\n",
        "    \"wtpa\" : \"where the party at\",\n",
        "    \"wuf\" : \"where are you from\",\n",
        "    \"wuzup\" : \"what is up\",\n",
        "    \"wywh\" : \"wish you were here\",\n",
        "    \"yd\" : \"yard\",\n",
        "    \"ygtr\" : \"you got that right\",\n",
        "    \"ynk\" : \"you never know\",\n",
        "    \"zzz\" : \"sleeping bored and tired\"\n",
        "}\n",
        "\n",
        "def convert_abbrev_in_text(tweet):\n",
        "    t=[]\n",
        "    words=tweet.split()\n",
        "    t = [abbreviations[w.lower()] if w.lower() in abbreviations.keys() else w for w in words]\n",
        "    return ' '.join(t) "
      ]
    },
    {
      "cell_type": "code",
      "execution_count": null,
      "metadata": {
        "id": "hh_4-VkuKCIG"
      },
      "outputs": [],
      "source": [
        "def prepare_string(tweet):\n",
        "  tweet = clean(tweet)\n",
        "  tweet = convert_abbrev_in_text(tweet)\n",
        "  return tweet"
      ]
    },
    {
      "cell_type": "markdown",
      "metadata": {
        "id": "hp2PjMtJK3ht"
      },
      "source": [
        "## 4.2 Nettoyage des données"
      ]
    },
    {
      "cell_type": "markdown",
      "metadata": {
        "id": "-yRT7ZCfSEW8"
      },
      "source": [
        "La colonne id n’étant pas utile pour notre entrainement, on ne la prend pas dans ces varibles."
      ]
    },
    {
      "cell_type": "code",
      "execution_count": null,
      "metadata": {
        "id": "t0uGR1nhR1Zr"
      },
      "outputs": [],
      "source": [
        "data_train.drop(columns=[\"id\"], inplace=True)\n",
        "data_test.drop(columns=[\"id\"], inplace=True)"
      ]
    },
    {
      "cell_type": "markdown",
      "metadata": {
        "id": "TjknDktsSbnv"
      },
      "source": [
        "Comme on l’a vue durant l’étude des données, la valeur -1 que l’on peut retrouver sur certain ligne des données de testes indique que le commentaire n’a pas été utilisé et on ne les utilisera donc pas."
      ]
    },
    {
      "cell_type": "code",
      "execution_count": null,
      "metadata": {
        "colab": {
          "base_uri": "https://localhost:8080/",
          "height": 206
        },
        "id": "hteBYdtZScID",
        "outputId": "e5ace02f-4ae4-4aa2-caf1-c356f39f9d95"
      },
      "outputs": [
        {
          "data": {
            "text/html": [
              "\n",
              "  <div id=\"df-2bc9a2ef-329c-4cb9-a871-ce920c635708\">\n",
              "    <div class=\"colab-df-container\">\n",
              "      <div>\n",
              "<style scoped>\n",
              "    .dataframe tbody tr th:only-of-type {\n",
              "        vertical-align: middle;\n",
              "    }\n",
              "\n",
              "    .dataframe tbody tr th {\n",
              "        vertical-align: top;\n",
              "    }\n",
              "\n",
              "    .dataframe thead th {\n",
              "        text-align: right;\n",
              "    }\n",
              "</style>\n",
              "<table border=\"1\" class=\"dataframe\">\n",
              "  <thead>\n",
              "    <tr style=\"text-align: right;\">\n",
              "      <th></th>\n",
              "      <th>comment_text</th>\n",
              "      <th>toxic</th>\n",
              "      <th>severe_toxic</th>\n",
              "      <th>obscene</th>\n",
              "      <th>threat</th>\n",
              "      <th>insult</th>\n",
              "      <th>identity_hate</th>\n",
              "    </tr>\n",
              "  </thead>\n",
              "  <tbody>\n",
              "    <tr>\n",
              "      <th>5</th>\n",
              "      <td>Thank you for understanding. I think very high...</td>\n",
              "      <td>0</td>\n",
              "      <td>0</td>\n",
              "      <td>0</td>\n",
              "      <td>0</td>\n",
              "      <td>0</td>\n",
              "      <td>0</td>\n",
              "    </tr>\n",
              "    <tr>\n",
              "      <th>7</th>\n",
              "      <td>:Dear god this site is horrible.</td>\n",
              "      <td>0</td>\n",
              "      <td>0</td>\n",
              "      <td>0</td>\n",
              "      <td>0</td>\n",
              "      <td>0</td>\n",
              "      <td>0</td>\n",
              "    </tr>\n",
              "    <tr>\n",
              "      <th>11</th>\n",
              "      <td>\"::: Somebody will invariably try to add Relig...</td>\n",
              "      <td>0</td>\n",
              "      <td>0</td>\n",
              "      <td>0</td>\n",
              "      <td>0</td>\n",
              "      <td>0</td>\n",
              "      <td>0</td>\n",
              "    </tr>\n",
              "    <tr>\n",
              "      <th>13</th>\n",
              "      <td>\" \\n\\n It says it right there that it IS a typ...</td>\n",
              "      <td>0</td>\n",
              "      <td>0</td>\n",
              "      <td>0</td>\n",
              "      <td>0</td>\n",
              "      <td>0</td>\n",
              "      <td>0</td>\n",
              "    </tr>\n",
              "    <tr>\n",
              "      <th>14</th>\n",
              "      <td>\" \\n\\n == Before adding a new product to the l...</td>\n",
              "      <td>0</td>\n",
              "      <td>0</td>\n",
              "      <td>0</td>\n",
              "      <td>0</td>\n",
              "      <td>0</td>\n",
              "      <td>0</td>\n",
              "    </tr>\n",
              "  </tbody>\n",
              "</table>\n",
              "</div>\n",
              "      <button class=\"colab-df-convert\" onclick=\"convertToInteractive('df-2bc9a2ef-329c-4cb9-a871-ce920c635708')\"\n",
              "              title=\"Convert this dataframe to an interactive table.\"\n",
              "              style=\"display:none;\">\n",
              "        \n",
              "  <svg xmlns=\"http://www.w3.org/2000/svg\" height=\"24px\"viewBox=\"0 0 24 24\"\n",
              "       width=\"24px\">\n",
              "    <path d=\"M0 0h24v24H0V0z\" fill=\"none\"/>\n",
              "    <path d=\"M18.56 5.44l.94 2.06.94-2.06 2.06-.94-2.06-.94-.94-2.06-.94 2.06-2.06.94zm-11 1L8.5 8.5l.94-2.06 2.06-.94-2.06-.94L8.5 2.5l-.94 2.06-2.06.94zm10 10l.94 2.06.94-2.06 2.06-.94-2.06-.94-.94-2.06-.94 2.06-2.06.94z\"/><path d=\"M17.41 7.96l-1.37-1.37c-.4-.4-.92-.59-1.43-.59-.52 0-1.04.2-1.43.59L10.3 9.45l-7.72 7.72c-.78.78-.78 2.05 0 2.83L4 21.41c.39.39.9.59 1.41.59.51 0 1.02-.2 1.41-.59l7.78-7.78 2.81-2.81c.8-.78.8-2.07 0-2.86zM5.41 20L4 18.59l7.72-7.72 1.47 1.35L5.41 20z\"/>\n",
              "  </svg>\n",
              "      </button>\n",
              "      \n",
              "  <style>\n",
              "    .colab-df-container {\n",
              "      display:flex;\n",
              "      flex-wrap:wrap;\n",
              "      gap: 12px;\n",
              "    }\n",
              "\n",
              "    .colab-df-convert {\n",
              "      background-color: #E8F0FE;\n",
              "      border: none;\n",
              "      border-radius: 50%;\n",
              "      cursor: pointer;\n",
              "      display: none;\n",
              "      fill: #1967D2;\n",
              "      height: 32px;\n",
              "      padding: 0 0 0 0;\n",
              "      width: 32px;\n",
              "    }\n",
              "\n",
              "    .colab-df-convert:hover {\n",
              "      background-color: #E2EBFA;\n",
              "      box-shadow: 0px 1px 2px rgba(60, 64, 67, 0.3), 0px 1px 3px 1px rgba(60, 64, 67, 0.15);\n",
              "      fill: #174EA6;\n",
              "    }\n",
              "\n",
              "    [theme=dark] .colab-df-convert {\n",
              "      background-color: #3B4455;\n",
              "      fill: #D2E3FC;\n",
              "    }\n",
              "\n",
              "    [theme=dark] .colab-df-convert:hover {\n",
              "      background-color: #434B5C;\n",
              "      box-shadow: 0px 1px 3px 1px rgba(0, 0, 0, 0.15);\n",
              "      filter: drop-shadow(0px 1px 2px rgba(0, 0, 0, 0.3));\n",
              "      fill: #FFFFFF;\n",
              "    }\n",
              "  </style>\n",
              "\n",
              "      <script>\n",
              "        const buttonEl =\n",
              "          document.querySelector('#df-2bc9a2ef-329c-4cb9-a871-ce920c635708 button.colab-df-convert');\n",
              "        buttonEl.style.display =\n",
              "          google.colab.kernel.accessAllowed ? 'block' : 'none';\n",
              "\n",
              "        async function convertToInteractive(key) {\n",
              "          const element = document.querySelector('#df-2bc9a2ef-329c-4cb9-a871-ce920c635708');\n",
              "          const dataTable =\n",
              "            await google.colab.kernel.invokeFunction('convertToInteractive',\n",
              "                                                     [key], {});\n",
              "          if (!dataTable) return;\n",
              "\n",
              "          const docLinkHtml = 'Like what you see? Visit the ' +\n",
              "            '<a target=\"_blank\" href=https://colab.research.google.com/notebooks/data_table.ipynb>data table notebook</a>'\n",
              "            + ' to learn more about interactive tables.';\n",
              "          element.innerHTML = '';\n",
              "          dataTable['output_type'] = 'display_data';\n",
              "          await google.colab.output.renderOutput(dataTable, element);\n",
              "          const docLink = document.createElement('div');\n",
              "          docLink.innerHTML = docLinkHtml;\n",
              "          element.appendChild(docLink);\n",
              "        }\n",
              "      </script>\n",
              "    </div>\n",
              "  </div>\n",
              "  "
            ],
            "text/plain": [
              "                                         comment_text  toxic  severe_toxic  \\\n",
              "5   Thank you for understanding. I think very high...      0             0   \n",
              "7                    :Dear god this site is horrible.      0             0   \n",
              "11  \"::: Somebody will invariably try to add Relig...      0             0   \n",
              "13  \" \\n\\n It says it right there that it IS a typ...      0             0   \n",
              "14  \" \\n\\n == Before adding a new product to the l...      0             0   \n",
              "\n",
              "    obscene  threat  insult  identity_hate  \n",
              "5         0       0       0              0  \n",
              "7         0       0       0              0  \n",
              "11        0       0       0              0  \n",
              "13        0       0       0              0  \n",
              "14        0       0       0              0  "
            ]
          },
          "execution_count": 25,
          "metadata": {},
          "output_type": "execute_result"
        }
      ],
      "source": [
        "data_test.drop( \n",
        "    data_test[ data_test['toxic'] == -1 ].index,\n",
        "    inplace = True\n",
        ")\n",
        "data_test.head()"
      ]
    },
    {
      "cell_type": "markdown",
      "metadata": {
        "id": "Pr0QHOfiNWna"
      },
      "source": [
        "On utilise la fonction prepare_strings sur les données d’entrainement pour enlever les abbréviations, etc..."
      ]
    },
    {
      "cell_type": "code",
      "execution_count": null,
      "metadata": {
        "colab": {
          "base_uri": "https://localhost:8080/"
        },
        "id": "CoGgXZEtTKff",
        "outputId": "e73d6a5a-cbb5-4611-c806-da7627228c16"
      },
      "outputs": [
        {
          "name": "stdout",
          "output_type": "stream",
          "text": [
            "\n",
            "Exemple:  review sorry say fail articles gan the several major problems brought articles previous assessment issued said articles wplead longer the history media attention academics student government demographics trivia additional information section deficient citiations also triva additional information integrated rest article again please look wpwiaga fix problem renominate gaclass however reassessed article bclass meet bclass criteria regards\n",
            "CPU times: user 1min 36s, sys: 438 ms, total: 1min 36s\n",
            "Wall time: 1min 39s\n"
          ]
        }
      ],
      "source": [
        "%%time\n",
        "# Apply prepare_string to all rows in 'tweets' column\n",
        "data_train['comment_text'] = data_train['comment_text'].apply(lambda s : prepare_string(s))\n",
        "\n",
        "# Drop empty values from dataframe\n",
        "data_train['comment_text'].replace('', np.nan, inplace=True)\n",
        "data_train.dropna(subset=['comment_text'], inplace=True)\n",
        "print(\"\\nExemple: \",data_train['comment_text'][57])"
      ]
    },
    {
      "cell_type": "markdown",
      "metadata": {
        "id": "EU91v4sEUrGH"
      },
      "source": [
        "De même pour les données de testes."
      ]
    },
    {
      "cell_type": "code",
      "execution_count": null,
      "metadata": {
        "colab": {
          "base_uri": "https://localhost:8080/"
        },
        "id": "68ZV51oztZq6",
        "outputId": "ce86c466-f9b4-4ab2-b388-4d576dab0f9b"
      },
      "outputs": [
        {
          "name": "stdout",
          "output_type": "stream",
          "text": [
            "\n",
            "Exemple:  can work magic wondring time help wikipediafeatured article candidatesw boisarchive any input would appreciated quick scan full review noticed work respect skills thanks\n",
            "CPU times: user 37.8 s, sys: 140 ms, total: 37.9 s\n",
            "Wall time: 38.3 s\n"
          ]
        }
      ],
      "source": [
        "%%time\n",
        "# Apply prepare_string to all rows in 'tweets' column\n",
        "data_test[\"comment_text\"] = data_test[\"comment_text\"].apply(lambda s : prepare_string(s))\n",
        "\n",
        "# Drop empty values from dataframe\n",
        "data_test.replace('', np.nan, inplace=True)\n",
        "data_test.dropna(subset=['comment_text'], inplace=True)\n",
        "print(\"\\nExemple: \",data_test['comment_text'][58])"
      ]
    },
    {
      "cell_type": "markdown",
      "metadata": {
        "id": "UXZ3Kwd-XXsZ"
      },
      "source": [
        "On enregistre les données pour ne pas avoir à les préparer de nouveau."
      ]
    },
    {
      "cell_type": "code",
      "execution_count": 27,
      "metadata": {
        "id": "8L1RIhmSXtym"
      },
      "outputs": [],
      "source": [
        "data_train.to_csv('/content/drive/MyDrive/toxic_comment_classification/cleaned_comments_train.csv', index=False)\n",
        "data_test.to_csv('/content/drive/MyDrive/toxic_comment_classification/cleaned_comments_test.csv', index=False)"
      ]
    },
    {
      "cell_type": "markdown",
      "metadata": {
        "id": "rgzmbm-XYGQm"
      },
      "source": [
        "## 4.3 Vectorisation des données"
      ]
    },
    {
      "cell_type": "markdown",
      "metadata": {
        "id": "z7YiJy9EZUqv"
      },
      "source": [
        "Si on ne vient pas de préparer les données et que l’on souhaite récupérer les données précédemment préparées."
      ]
    },
    {
      "cell_type": "code",
      "execution_count": 10,
      "metadata": {
        "colab": {
          "base_uri": "https://localhost:8080/",
          "height": 363
        },
        "id": "XrRLRldcUkTL",
        "outputId": "1353a569-7760-4e93-b901-9243474ee955"
      },
      "outputs": [
        {
          "data": {
            "text/html": [
              "\n",
              "  <div id=\"df-bcdbc8aa-5d66-40b5-ae74-585f77f5bf25\">\n",
              "    <div class=\"colab-df-container\">\n",
              "      <div>\n",
              "<style scoped>\n",
              "    .dataframe tbody tr th:only-of-type {\n",
              "        vertical-align: middle;\n",
              "    }\n",
              "\n",
              "    .dataframe tbody tr th {\n",
              "        vertical-align: top;\n",
              "    }\n",
              "\n",
              "    .dataframe thead th {\n",
              "        text-align: right;\n",
              "    }\n",
              "</style>\n",
              "<table border=\"1\" class=\"dataframe\">\n",
              "  <thead>\n",
              "    <tr style=\"text-align: right;\">\n",
              "      <th></th>\n",
              "      <th>comment_text</th>\n",
              "      <th>toxic</th>\n",
              "      <th>severe_toxic</th>\n",
              "      <th>obscene</th>\n",
              "      <th>threat</th>\n",
              "      <th>insult</th>\n",
              "      <th>identity_hate</th>\n",
              "    </tr>\n",
              "  </thead>\n",
              "  <tbody>\n",
              "    <tr>\n",
              "      <th>50</th>\n",
              "      <td>said wanted talk bottom lead section written i...</td>\n",
              "      <td>0</td>\n",
              "      <td>0</td>\n",
              "      <td>0</td>\n",
              "      <td>0</td>\n",
              "      <td>0</td>\n",
              "      <td>0</td>\n",
              "    </tr>\n",
              "    <tr>\n",
              "      <th>51</th>\n",
              "      <td>get fucked get fuckeeed got drink that you can...</td>\n",
              "      <td>1</td>\n",
              "      <td>0</td>\n",
              "      <td>1</td>\n",
              "      <td>0</td>\n",
              "      <td>0</td>\n",
              "      <td>0</td>\n",
              "    </tr>\n",
              "    <tr>\n",
              "      <th>52</th>\n",
              "      <td>are threatening disputing neutrality know coun...</td>\n",
              "      <td>0</td>\n",
              "      <td>0</td>\n",
              "      <td>0</td>\n",
              "      <td>0</td>\n",
              "      <td>0</td>\n",
              "      <td>0</td>\n",
              "    </tr>\n",
              "    <tr>\n",
              "      <th>53</th>\n",
              "      <td>thanks undeletion would hoped researching stat...</td>\n",
              "      <td>0</td>\n",
              "      <td>0</td>\n",
              "      <td>0</td>\n",
              "      <td>0</td>\n",
              "      <td>0</td>\n",
              "      <td>0</td>\n",
              "    </tr>\n",
              "    <tr>\n",
              "      <th>54</th>\n",
              "      <td>awesome then simply disregard notice thanks</td>\n",
              "      <td>0</td>\n",
              "      <td>0</td>\n",
              "      <td>0</td>\n",
              "      <td>0</td>\n",
              "      <td>0</td>\n",
              "      <td>0</td>\n",
              "    </tr>\n",
              "    <tr>\n",
              "      <th>55</th>\n",
              "      <td>stupid peace shit stop deleting stuff asshole ...</td>\n",
              "      <td>1</td>\n",
              "      <td>1</td>\n",
              "      <td>1</td>\n",
              "      <td>0</td>\n",
              "      <td>1</td>\n",
              "      <td>0</td>\n",
              "    </tr>\n",
              "    <tr>\n",
              "      <th>56</th>\n",
              "      <td>tony sidaway obviously fistfuckee loves arm ass</td>\n",
              "      <td>1</td>\n",
              "      <td>0</td>\n",
              "      <td>1</td>\n",
              "      <td>0</td>\n",
              "      <td>1</td>\n",
              "      <td>0</td>\n",
              "    </tr>\n",
              "    <tr>\n",
              "      <th>57</th>\n",
              "      <td>review sorry say fail articles gan the several...</td>\n",
              "      <td>0</td>\n",
              "      <td>0</td>\n",
              "      <td>0</td>\n",
              "      <td>0</td>\n",
              "      <td>0</td>\n",
              "      <td>0</td>\n",
              "    </tr>\n",
              "    <tr>\n",
              "      <th>58</th>\n",
              "      <td>band pages deletion you thought gone deleting ...</td>\n",
              "      <td>1</td>\n",
              "      <td>0</td>\n",
              "      <td>1</td>\n",
              "      <td>0</td>\n",
              "      <td>0</td>\n",
              "      <td>0</td>\n",
              "    </tr>\n",
              "    <tr>\n",
              "      <th>59</th>\n",
              "      <td>why cannot believe fat artie did see recent ap...</td>\n",
              "      <td>1</td>\n",
              "      <td>0</td>\n",
              "      <td>0</td>\n",
              "      <td>0</td>\n",
              "      <td>0</td>\n",
              "      <td>0</td>\n",
              "    </tr>\n",
              "  </tbody>\n",
              "</table>\n",
              "</div>\n",
              "      <button class=\"colab-df-convert\" onclick=\"convertToInteractive('df-bcdbc8aa-5d66-40b5-ae74-585f77f5bf25')\"\n",
              "              title=\"Convert this dataframe to an interactive table.\"\n",
              "              style=\"display:none;\">\n",
              "        \n",
              "  <svg xmlns=\"http://www.w3.org/2000/svg\" height=\"24px\"viewBox=\"0 0 24 24\"\n",
              "       width=\"24px\">\n",
              "    <path d=\"M0 0h24v24H0V0z\" fill=\"none\"/>\n",
              "    <path d=\"M18.56 5.44l.94 2.06.94-2.06 2.06-.94-2.06-.94-.94-2.06-.94 2.06-2.06.94zm-11 1L8.5 8.5l.94-2.06 2.06-.94-2.06-.94L8.5 2.5l-.94 2.06-2.06.94zm10 10l.94 2.06.94-2.06 2.06-.94-2.06-.94-.94-2.06-.94 2.06-2.06.94z\"/><path d=\"M17.41 7.96l-1.37-1.37c-.4-.4-.92-.59-1.43-.59-.52 0-1.04.2-1.43.59L10.3 9.45l-7.72 7.72c-.78.78-.78 2.05 0 2.83L4 21.41c.39.39.9.59 1.41.59.51 0 1.02-.2 1.41-.59l7.78-7.78 2.81-2.81c.8-.78.8-2.07 0-2.86zM5.41 20L4 18.59l7.72-7.72 1.47 1.35L5.41 20z\"/>\n",
              "  </svg>\n",
              "      </button>\n",
              "      \n",
              "  <style>\n",
              "    .colab-df-container {\n",
              "      display:flex;\n",
              "      flex-wrap:wrap;\n",
              "      gap: 12px;\n",
              "    }\n",
              "\n",
              "    .colab-df-convert {\n",
              "      background-color: #E8F0FE;\n",
              "      border: none;\n",
              "      border-radius: 50%;\n",
              "      cursor: pointer;\n",
              "      display: none;\n",
              "      fill: #1967D2;\n",
              "      height: 32px;\n",
              "      padding: 0 0 0 0;\n",
              "      width: 32px;\n",
              "    }\n",
              "\n",
              "    .colab-df-convert:hover {\n",
              "      background-color: #E2EBFA;\n",
              "      box-shadow: 0px 1px 2px rgba(60, 64, 67, 0.3), 0px 1px 3px 1px rgba(60, 64, 67, 0.15);\n",
              "      fill: #174EA6;\n",
              "    }\n",
              "\n",
              "    [theme=dark] .colab-df-convert {\n",
              "      background-color: #3B4455;\n",
              "      fill: #D2E3FC;\n",
              "    }\n",
              "\n",
              "    [theme=dark] .colab-df-convert:hover {\n",
              "      background-color: #434B5C;\n",
              "      box-shadow: 0px 1px 3px 1px rgba(0, 0, 0, 0.15);\n",
              "      filter: drop-shadow(0px 1px 2px rgba(0, 0, 0, 0.3));\n",
              "      fill: #FFFFFF;\n",
              "    }\n",
              "  </style>\n",
              "\n",
              "      <script>\n",
              "        const buttonEl =\n",
              "          document.querySelector('#df-bcdbc8aa-5d66-40b5-ae74-585f77f5bf25 button.colab-df-convert');\n",
              "        buttonEl.style.display =\n",
              "          google.colab.kernel.accessAllowed ? 'block' : 'none';\n",
              "\n",
              "        async function convertToInteractive(key) {\n",
              "          const element = document.querySelector('#df-bcdbc8aa-5d66-40b5-ae74-585f77f5bf25');\n",
              "          const dataTable =\n",
              "            await google.colab.kernel.invokeFunction('convertToInteractive',\n",
              "                                                     [key], {});\n",
              "          if (!dataTable) return;\n",
              "\n",
              "          const docLinkHtml = 'Like what you see? Visit the ' +\n",
              "            '<a target=\"_blank\" href=https://colab.research.google.com/notebooks/data_table.ipynb>data table notebook</a>'\n",
              "            + ' to learn more about interactive tables.';\n",
              "          element.innerHTML = '';\n",
              "          dataTable['output_type'] = 'display_data';\n",
              "          await google.colab.output.renderOutput(dataTable, element);\n",
              "          const docLink = document.createElement('div');\n",
              "          docLink.innerHTML = docLinkHtml;\n",
              "          element.appendChild(docLink);\n",
              "        }\n",
              "      </script>\n",
              "    </div>\n",
              "  </div>\n",
              "  "
            ],
            "text/plain": [
              "                                         comment_text  toxic  severe_toxic  \\\n",
              "50  said wanted talk bottom lead section written i...      0             0   \n",
              "51  get fucked get fuckeeed got drink that you can...      1             0   \n",
              "52  are threatening disputing neutrality know coun...      0             0   \n",
              "53  thanks undeletion would hoped researching stat...      0             0   \n",
              "54        awesome then simply disregard notice thanks      0             0   \n",
              "55  stupid peace shit stop deleting stuff asshole ...      1             1   \n",
              "56    tony sidaway obviously fistfuckee loves arm ass      1             0   \n",
              "57  review sorry say fail articles gan the several...      0             0   \n",
              "58  band pages deletion you thought gone deleting ...      1             0   \n",
              "59  why cannot believe fat artie did see recent ap...      1             0   \n",
              "\n",
              "    obscene  threat  insult  identity_hate  \n",
              "50        0       0       0              0  \n",
              "51        1       0       0              0  \n",
              "52        0       0       0              0  \n",
              "53        0       0       0              0  \n",
              "54        0       0       0              0  \n",
              "55        1       0       1              0  \n",
              "56        1       0       1              0  \n",
              "57        0       0       0              0  \n",
              "58        1       0       0              0  \n",
              "59        0       0       0              0  "
            ]
          },
          "execution_count": 10,
          "metadata": {},
          "output_type": "execute_result"
        }
      ],
      "source": [
        "data_train = pd.read_csv('/content/drive/MyDrive/toxic_comment_classification/cleaned_comments_train.csv')\n",
        "data_test = pd.read_csv('/content/drive/MyDrive/toxic_comment_classification/cleaned_comments_test.csv')\n",
        "data_train[50:60]"
      ]
    },
    {
      "cell_type": "markdown",
      "metadata": {
        "id": "PdEJTNzQHmCn"
      },
      "source": [
        "On séparer d’abord les commentaires et les catégories dans deux varibles différentes (X_train et y_train). "
      ]
    },
    {
      "cell_type": "code",
      "execution_count": null,
      "metadata": {
        "id": "BLIFJvouF0SF",
        "vscode": {
          "languageId": "plaintext"
        }
      },
      "outputs": [],
      "source": [
        "X_train = data_train['comment_text']\n",
        "y_train = data_train.drop(columns=['comment_text'])\n",
        "X_test = data_test['comment_text']\n",
        "y_test = data_test.drop(columns=['comment_text'])"
      ]
    },
    {
      "cell_type": "markdown",
      "metadata": {
        "id": "C66EGISQagjB"
      },
      "source": [
        "Puis on transforme les commentaires en vecteur de mots."
      ]
    },
    {
      "cell_type": "code",
      "execution_count": 12,
      "metadata": {
        "id": "3kN0lhv5WVIf"
      },
      "outputs": [],
      "source": [
        "tfIdfVectorizer = TfidfVectorizer()\n",
        "X_train_vect = tfIdfVectorizer.fit_transform(X_train)\n",
        "X_test_vect = tfIdfVectorizer.transform(X_test)"
      ]
    },
    {
      "cell_type": "markdown",
      "metadata": {
        "id": "ndSnViq8bPif"
      },
      "source": [
        "# 5. Entraînement du modèle baseline\n",
        "\n",
        "On commence par un modèle simple de random forest."
      ]
    },
    {
      "cell_type": "markdown",
      "metadata": {
        "id": "txdUCjSnbow9"
      },
      "source": [
        "Préparation du modèle :"
      ]
    },
    {
      "cell_type": "code",
      "execution_count": null,
      "metadata": {
        "id": "pH9UGkusc67x"
      },
      "outputs": [],
      "source": [
        "# Use only 15 estimator to save your ram\n",
        "text_classifier = RandomForestClassifier(\n",
        "    n_estimators = 15,\n",
        "    max_depth = 100,\n",
        "    random_state = 0\n",
        ")"
      ]
    },
    {
      "cell_type": "markdown",
      "metadata": {
        "id": "MgtwfhRScDUh"
      },
      "source": [
        "Entrainement du modèle"
      ]
    },
    {
      "cell_type": "code",
      "execution_count": null,
      "metadata": {
        "colab": {
          "base_uri": "https://localhost:8080/"
        },
        "id": "HQ-pJNEtdJiN",
        "outputId": "59da31a6-abc5-42a7-d339-78cf7acb629b"
      },
      "outputs": [
        {
          "data": {
            "text/plain": [
              "RandomForestClassifier(max_depth=100, n_estimators=15, random_state=0)"
            ]
          },
          "execution_count": 32,
          "metadata": {},
          "output_type": "execute_result"
        }
      ],
      "source": [
        "text_classifier.fit(X_train_vect, y_train)"
      ]
    },
    {
      "cell_type": "markdown",
      "metadata": {
        "id": "nbdjrlnQcIAW"
      },
      "source": [
        "Teste du modèle"
      ]
    },
    {
      "cell_type": "code",
      "execution_count": null,
      "metadata": {
        "id": "mQ054edccLYY"
      },
      "outputs": [],
      "source": [
        "predictions = text_classifier.predict(X_test_vect)"
      ]
    },
    {
      "cell_type": "markdown",
      "metadata": {
        "id": "phQOFOBsc9O8"
      },
      "source": [
        "On affiche les résultats des mesures de performances :"
      ]
    },
    {
      "cell_type": "code",
      "execution_count": null,
      "metadata": {
        "colab": {
          "base_uri": "https://localhost:8080/"
        },
        "id": "oReAW7ACdWws",
        "outputId": "6050814a-9af2-405d-eec3-e31fe73322cf"
      },
      "outputs": [
        {
          "name": "stdout",
          "output_type": "stream",
          "text": [
            "              precision    recall  f1-score   support\n",
            "\n",
            "           0       0.94      0.06      0.11      6087\n",
            "           1       1.00      0.01      0.01       367\n",
            "           2       0.94      0.05      0.09      3688\n",
            "           3       0.00      0.00      0.00       211\n",
            "           4       0.92      0.03      0.05      3424\n",
            "           5       1.00      0.00      0.00       712\n",
            "\n",
            "   micro avg       0.93      0.04      0.08     14489\n",
            "   macro avg       0.80      0.02      0.04     14489\n",
            "weighted avg       0.92      0.04      0.08     14489\n",
            " samples avg       0.01      0.00      0.00     14489\n",
            "\n",
            "0.9024940115541779\n"
          ]
        },
        {
          "name": "stderr",
          "output_type": "stream",
          "text": [
            "/usr/local/lib/python3.8/dist-packages/sklearn/metrics/_classification.py:1318: UndefinedMetricWarning: Precision and F-score are ill-defined and being set to 0.0 in samples with no predicted labels. Use `zero_division` parameter to control this behavior.\n",
            "  _warn_prf(average, modifier, msg_start, len(result))\n",
            "/usr/local/lib/python3.8/dist-packages/sklearn/metrics/_classification.py:1318: UndefinedMetricWarning: Recall and F-score are ill-defined and being set to 0.0 in samples with no true labels. Use `zero_division` parameter to control this behavior.\n",
            "  _warn_prf(average, modifier, msg_start, len(result))\n"
          ]
        }
      ],
      "source": [
        "print(classification_report(y_test, predictions))\n",
        "\n",
        "print(accuracy_score(y_test, predictions))"
      ]
    },
    {
      "cell_type": "markdown",
      "metadata": {
        "id": "2a8IWbTFTHXh"
      },
      "source": [
        "# 6. Itération de la modélisation \n",
        "\n",
        "Deep learning model"
      ]
    },
    {
      "cell_type": "markdown",
      "metadata": {
        "id": "kY6nFhoGLSSB"
      },
      "source": [
        "## 6.1 LSTM"
      ]
    },
    {
      "cell_type": "markdown",
      "metadata": {
        "id": "nwDIOz8p9sy8"
      },
      "source": [
        "### 6.1.1 Prédiction avec le modèle NN with LSTM"
      ]
    },
    {
      "cell_type": "code",
      "execution_count": null,
      "metadata": {
        "colab": {
          "base_uri": "https://localhost:8080/"
        },
        "id": "Hes-ISZ0F1_N",
        "outputId": "8454850a-ef1e-4326-bd54-19234c571a36"
      },
      "outputs": [
        {
          "name": "stdout",
          "output_type": "stream",
          "text": [
            "1/1 [==============================] - 0s 359ms/step\n",
            "[[9.9848622e-01 1.7309523e-01 9.9861550e-01 5.8907433e-04 9.7720611e-01\n",
            "  1.3361363e-02]]\n"
          ]
        }
      ],
      "source": [
        "L = [\"your are a cunt\"]\n",
        "L = tokenizerDL.texts_to_sequences(L)\n",
        "L=np.array(pad_sequences(L, maxlen=max_length, padding=padding_type, truncating=trunc_type))\n",
        "LP=model.predict(L)\n",
        "print(LP)"
      ]
    },
    {
      "cell_type": "code",
      "execution_count": null,
      "metadata": {
        "colab": {
          "base_uri": "https://localhost:8080/"
        },
        "id": "xwBeeKddtZ5D",
        "outputId": "ee931931-af6e-41b7-a37a-767c4890eeed"
      },
      "outputs": [
        {
          "name": "stdout",
          "output_type": "stream",
          "text": [
            "Epoch 1/10\n",
            "624/624 [==============================] - 34s 51ms/step - loss: 0.1209 - f1_score: 0.2661 - val_loss: 0.0773 - val_f1_score: 0.3432\n",
            "Epoch 2/10\n",
            "624/624 [==============================] - 12s 19ms/step - loss: 0.0515 - f1_score: 0.4125 - val_loss: 0.0796 - val_f1_score: 0.3899\n",
            "Epoch 3/10\n",
            "624/624 [==============================] - 10s 16ms/step - loss: 0.0412 - f1_score: 0.4745 - val_loss: 0.0802 - val_f1_score: 0.3531\n",
            "Epoch 4/10\n",
            "624/624 [==============================] - 10s 16ms/step - loss: 0.0338 - f1_score: 0.5475 - val_loss: 0.0893 - val_f1_score: 0.4339\n",
            "Epoch 5/10\n",
            "624/624 [==============================] - 9s 14ms/step - loss: 0.0278 - f1_score: 0.6270 - val_loss: 0.0997 - val_f1_score: 0.4484\n",
            "Epoch 6/10\n",
            "624/624 [==============================] - 9s 15ms/step - loss: 0.0227 - f1_score: 0.6727 - val_loss: 0.0975 - val_f1_score: 0.4484\n",
            "Epoch 7/10\n",
            "624/624 [==============================] - 9s 14ms/step - loss: 0.0185 - f1_score: 0.7102 - val_loss: 0.1100 - val_f1_score: 0.4626\n",
            "Epoch 8/10\n",
            "624/624 [==============================] - 8s 13ms/step - loss: 0.0149 - f1_score: 0.7790 - val_loss: 0.1185 - val_f1_score: 0.4641\n",
            "Epoch 9/10\n",
            "624/624 [==============================] - 9s 14ms/step - loss: 0.0119 - f1_score: 0.8336 - val_loss: 0.1241 - val_f1_score: 0.4811\n",
            "Epoch 10/10\n",
            "624/624 [==============================] - 8s 13ms/step - loss: 0.0099 - f1_score: 0.8756 - val_loss: 0.1476 - val_f1_score: 0.4850\n",
            "Training Complete\n"
          ]
        }
      ],
      "source": [
        "# Creation of tuples (tweet, label) in anticipation of data mixing\n",
        "\n",
        "embedding_dim = 100    # Dimensions used for glove6b100\n",
        "max_length = 20        # Maximum size of a tweet\n",
        "trunc_type='post'      # Truncates the tweet if it is longer than max_length\n",
        "padding_type='post'    # Adds padding to the end of the tweet if it is shorter than max_length\n",
        "oov_tok = \"<OOV>\"      # Token \"<OOV>\" replaces words that are not part of the vocabulary (Out Of Vocabulary)\n",
        "training_size=len(corpus)\n",
        "\n",
        "tokenizerDL = Tokenizer()\n",
        "tokenizerDL.fit_on_texts(X_train)\n",
        "\n",
        "word_index = tokenizerDL.word_index\n",
        "vocab_size=len(word_index)\n",
        "\n",
        "train_sequences = tokenizerDL.texts_to_sequences(X_train)\n",
        "training_padded = np.array(pad_sequences(train_sequences, maxlen=max_length, padding=padding_type, truncating=trunc_type))\n",
        "\n",
        "test_sequences = tokenizerDL.texts_to_sequences(X_test)\n",
        "testing_padded = np.array(pad_sequences(test_sequences, maxlen=max_length, padding=padding_type, truncating=trunc_type))\n",
        "\n",
        "num_epochs = 10\n",
        "\n",
        "model = tf.keras.Sequential([\n",
        "    tf.keras.layers.Embedding(vocab_size+1, embedding_dim, input_length=max_length),\n",
        "    LSTM(units=64),\n",
        "    tf.keras.layers.Dense(6, activation='sigmoid')\n",
        "])\n",
        "\n",
        "\n",
        "model.compile(loss='binary_crossentropy',optimizer='adam',metrics=[tfa.metrics.F1Score(num_classes=6, threshold=0.5)])\n",
        "\n",
        "history = model.fit(training_padded, \n",
        "                      y_train, \n",
        "                      epochs=num_epochs, \n",
        "                      validation_data=(testing_padded, y_test),\n",
        "                      batch_size = 256,\n",
        "                      verbose=1)\n",
        "  \n",
        "print(\"Training Complete\")"
      ]
    },
    {
      "cell_type": "code",
      "execution_count": null,
      "metadata": {
        "colab": {
          "base_uri": "https://localhost:8080/",
          "height": 608
        },
        "id": "KQ7dz0st6wH6",
        "outputId": "842240ca-a4a2-4bd1-f2ef-aeac675c28e7"
      },
      "outputs": [
        {
          "data": {
            "image/png": "[encoded data removed]",
            "text/plain": [
              "<Figure size 432x288 with 1 Axes>"
            ]
          },
          "metadata": {
            "needs_background": "light"
          },
          "output_type": "display_data"
        },
        {
          "data": {
            "text/plain": [
              "<Figure size 432x288 with 0 Axes>"
            ]
          },
          "metadata": {},
          "output_type": "display_data"
        },
        {
          "data": {
            "image/png": "[encoded data removed]",
            "text/plain": [
              "<Figure size 432x288 with 1 Axes>"
            ]
          },
          "metadata": {
            "needs_background": "light"
          },
          "output_type": "display_data"
        },
        {
          "data": {
            "text/plain": [
              "<Figure size 432x288 with 0 Axes>"
            ]
          },
          "metadata": {},
          "output_type": "display_data"
        }
      ],
      "source": [
        "#-----------------------------------------------------------\n",
        "# Retrieve a list of list results on training and test data\n",
        "# sets for each training epoch\n",
        "#-----------------------------------------------------------\n",
        "acc=history.history['f1_score']\n",
        "val_acc=history.history['val_f1_score']\n",
        "loss=history.history['loss']\n",
        "val_loss=history.history['val_loss']\n",
        "\n",
        "epochs=range(len(acc)) # Get number of epochs\n",
        "\n",
        "#------------------------------------------------\n",
        "# Plot training and validation accuracy per epoch\n",
        "#------------------------------------------------\n",
        "plt.plot(epochs, acc, 'r')\n",
        "plt.plot(epochs, val_acc, 'b')\n",
        "plt.title('Training and validation f1-score')\n",
        "plt.xlabel(\"Epochs\")\n",
        "plt.ylabel(\"F1-score\")\n",
        "plt.legend([\"Accuracy\",\"Validation Accuracy\"])\n",
        "\n",
        "plt.figure()\n",
        "plt.show()\n",
        "\n",
        "#------------------------------------------------\n",
        "# Plot training and validation loss per epoch\n",
        "#------------------------------------------------\n",
        "plt.plot(epochs, loss, 'r')\n",
        "plt.plot(epochs, val_loss, 'b')\n",
        "plt.title('Training and validation loss')\n",
        "plt.xlabel(\"Epochs\")\n",
        "plt.ylabel(\"Loss\")\n",
        "plt.legend([\"Loss\", \"Validation Loss\"])\n",
        "\n",
        "plt.figure()\n",
        "plt.show()"
      ]
    },
    {
      "cell_type": "code",
      "execution_count": null,
      "metadata": {
        "id": "jVq-dR3q6QGF"
      },
      "outputs": [],
      "source": [
        "def predictToxicity(comments):\n",
        "\n",
        "  labels_name = [\"Toxic\", \"Severe toxic\", \"Obscene\", \"Threat\", \"Insult\", \"Identity hate\"]\n",
        "  isToxic = False\n",
        "  for comment in comments:\n",
        "    string_prediction = comment + \" : \"\n",
        "    modify_comment = [prepare_string(comment)]\n",
        "    modify_comment = tokenizerDL.texts_to_sequences(modify_comment)\n",
        "    modify_comment = np.array(pad_sequences(modify_comment, maxlen=max_length, padding=padding_type, truncating=trunc_type))\n",
        "    prediction = model.predict(modify_comment)\n",
        "    isToxic = False\n",
        "    for i in range(len(labels_name)):\n",
        "      if(prediction[0][i] > 0.5):\n",
        "        if(i!=0):\n",
        "          string_prediction = string_prediction + \" & \" \n",
        "\n",
        "        string_prediction = string_prediction + labels_name[i]\n",
        "        isToxic = True\n",
        "\n",
        "      elif((i==len(labels_name)-1) and not isToxic):\n",
        "        string_prediction = string_prediction + \"Non toxic\"\n",
        "        \n",
        "    print(string_prediction)"
      ]
    },
    {
      "cell_type": "code",
      "execution_count": null,
      "metadata": {
        "colab": {
          "base_uri": "https://localhost:8080/"
        },
        "id": "dn_pESGDTlLH",
        "outputId": "d11836b9-9dc6-4684-9e55-c4848ec92265"
      },
      "outputs": [
        {
          "name": "stdout",
          "output_type": "stream",
          "text": [
            "1/1 [==============================] - 0s 72ms/step\n",
            "you are a cunt : Toxic & Obscene & Insult\n"
          ]
        }
      ],
      "source": [
        "predictToxicity([\"you are a cunt\"])"
      ]
    },
    {
      "cell_type": "markdown",
      "metadata": {
        "id": "90ozOXSjLYR2"
      },
      "source": [
        "## 6.2 Max length = 30"
      ]
    },
    {
      "cell_type": "code",
      "execution_count": null,
      "metadata": {
        "id": "ZKsCxPNDLje5"
      },
      "outputs": [],
      "source": [
        "max_length = 30\n",
        "\n",
        "train_sequences = tokenizerDL.texts_to_sequences(X_train)\n",
        "training_padded = np.array(pad_sequences(train_sequences, maxlen=max_length, padding=padding_type, truncating=trunc_type))\n",
        "\n",
        "test_sequences = tokenizerDL.texts_to_sequences(X_test)\n",
        "testing_padded = np.array(pad_sequences(test_sequences, maxlen=max_length, padding=padding_type, truncating=trunc_type))"
      ]
    },
    {
      "cell_type": "code",
      "execution_count": null,
      "metadata": {
        "id": "lSeU6S4NL5ql"
      },
      "outputs": [],
      "source": [
        "model2 = tf.keras.Sequential([\n",
        "    tf.keras.layers.Embedding(vocab_size+1, embedding_dim, input_length=max_length),\n",
        "    LSTM(units=64),\n",
        "    tf.keras.layers.Dense(6, activation='sigmoid')\n",
        "])\n",
        "model2.compile(loss='binary_crossentropy',optimizer='adam',metrics=[tfa.metrics.F1Score(num_classes=6, threshold=0.5)])"
      ]
    },
    {
      "cell_type": "code",
      "execution_count": null,
      "metadata": {
        "colab": {
          "base_uri": "https://localhost:8080/"
        },
        "id": "MdtZYmehL99A",
        "outputId": "5c4edc7c-c599-43c5-9b24-68f6ba828771"
      },
      "outputs": [
        {
          "name": "stdout",
          "output_type": "stream",
          "text": [
            "Epoch 1/10\n",
            "624/624 [==============================] - 56s 86ms/step - loss: 0.1480 - f1_score: 0.0293 - val_loss: 0.0973 - val_f1_score: 0.3556\n",
            "Epoch 2/10\n",
            "624/624 [==============================] - 18s 29ms/step - loss: 0.0575 - f1_score: 0.3707 - val_loss: 0.0752 - val_f1_score: 0.3502\n",
            "Epoch 3/10\n",
            "624/624 [==============================] - 14s 23ms/step - loss: 0.0417 - f1_score: 0.4490 - val_loss: 0.0762 - val_f1_score: 0.3350\n",
            "Epoch 4/10\n",
            "624/624 [==============================] - 14s 22ms/step - loss: 0.0346 - f1_score: 0.4952 - val_loss: 0.0843 - val_f1_score: 0.3904\n",
            "Epoch 5/10\n",
            "624/624 [==============================] - 11s 18ms/step - loss: 0.0290 - f1_score: 0.5724 - val_loss: 0.0860 - val_f1_score: 0.4040\n",
            "Epoch 6/10\n",
            "624/624 [==============================] - 10s 17ms/step - loss: 0.0245 - f1_score: 0.6419 - val_loss: 0.0936 - val_f1_score: 0.4392\n",
            "Epoch 7/10\n",
            "624/624 [==============================] - 10s 16ms/step - loss: 0.0207 - f1_score: 0.7009 - val_loss: 0.0992 - val_f1_score: 0.4432\n",
            "Epoch 8/10\n",
            "624/624 [==============================] - 9s 14ms/step - loss: 0.0172 - f1_score: 0.7348 - val_loss: 0.1021 - val_f1_score: 0.4479\n",
            "Epoch 9/10\n",
            "624/624 [==============================] - 10s 16ms/step - loss: 0.0143 - f1_score: 0.7897 - val_loss: 0.1139 - val_f1_score: 0.4671\n",
            "Epoch 10/10\n",
            "624/624 [==============================] - 9s 14ms/step - loss: 0.0119 - f1_score: 0.8362 - val_loss: 0.1186 - val_f1_score: 0.4575\n",
            "Training Complete\n"
          ]
        }
      ],
      "source": [
        "history2 = model2.fit(training_padded, \n",
        "                      y_train, \n",
        "                      epochs=num_epochs, \n",
        "                      validation_data=(testing_padded, y_test),\n",
        "                      batch_size = 256,\n",
        "                      verbose=1)\n",
        "  \n",
        "print(\"Training Complete\")"
      ]
    },
    {
      "cell_type": "code",
      "execution_count": null,
      "metadata": {
        "colab": {
          "base_uri": "https://localhost:8080/",
          "height": 608
        },
        "id": "cWv-_-6vL_Vk",
        "outputId": "48f60c49-b037-4bde-8781-952e4dd58b01"
      },
      "outputs": [
        {
          "data": {
            "image/png": "[encoded data removed]",
            "text/plain": [
              "<Figure size 432x288 with 1 Axes>"
            ]
          },
          "metadata": {
            "needs_background": "light"
          },
          "output_type": "display_data"
        },
        {
          "data": {
            "text/plain": [
              "<Figure size 432x288 with 0 Axes>"
            ]
          },
          "metadata": {},
          "output_type": "display_data"
        },
        {
          "data": {
            "image/png": "[encoded data removed]",
            "text/plain": [
              "<Figure size 432x288 with 1 Axes>"
            ]
          },
          "metadata": {
            "needs_background": "light"
          },
          "output_type": "display_data"
        },
        {
          "data": {
            "text/plain": [
              "<Figure size 432x288 with 0 Axes>"
            ]
          },
          "metadata": {},
          "output_type": "display_data"
        }
      ],
      "source": [
        "#-----------------------------------------------------------\n",
        "# Retrieve a list of list results on training and test data\n",
        "# sets for each training epoch\n",
        "#-----------------------------------------------------------\n",
        "acc=history.history['f1_score']\n",
        "val_acc=history.history['val_f1_score']\n",
        "loss=history.history['loss']\n",
        "val_loss=history.history['val_loss']\n",
        "\n",
        "epochs=range(len(acc)) # Get number of epochs\n",
        "\n",
        "#------------------------------------------------\n",
        "# Plot training and validation accuracy per epoch\n",
        "#------------------------------------------------\n",
        "plt.plot(epochs, acc, 'r')\n",
        "plt.plot(epochs, val_acc, 'b')\n",
        "plt.title('Training and validation f1-score')\n",
        "plt.xlabel(\"Epochs\")\n",
        "plt.ylabel(\"F1-score\")\n",
        "plt.legend([\"F1-score\", \"Validation Accuracy\"])\n",
        "\n",
        "plt.figure()\n",
        "plt.show()\n",
        "\n",
        "#------------------------------------------------\n",
        "# Plot training and validation loss per epoch\n",
        "#------------------------------------------------\n",
        "plt.plot(epochs, loss, 'r')\n",
        "plt.plot(epochs, val_loss, 'b')\n",
        "plt.title('Training and validation loss')\n",
        "plt.xlabel(\"Epochs\")\n",
        "plt.ylabel(\"Loss\")\n",
        "plt.legend([\"Loss\", \"Validation Loss\"])\n",
        "\n",
        "plt.figure()\n",
        "plt.show()"
      ]
    },
    {
      "cell_type": "markdown",
      "metadata": {
        "id": "qCM-Qb8BNhVp"
      },
      "source": [
        "## 6.3 Limiter le bag of word à 20000"
      ]
    },
    {
      "cell_type": "code",
      "execution_count": null,
      "metadata": {
        "colab": {
          "base_uri": "https://localhost:8080/"
        },
        "id": "qQrHf-tmNpDw",
        "outputId": "77320374-ecc4-4fca-ca19-0546e3281c03"
      },
      "outputs": [
        {
          "name": "stdout",
          "output_type": "stream",
          "text": [
            "Epoch 1/10\n",
            "624/624 [==============================] - 41s 60ms/step - loss: 0.1106 - f1_score: 0.3218 - val_loss: 0.0806 - val_f1_score: 0.3454\n",
            "Epoch 2/10\n",
            "624/624 [==============================] - 12s 19ms/step - loss: 0.0528 - f1_score: 0.3953 - val_loss: 0.0789 - val_f1_score: 0.3909\n",
            "Epoch 3/10\n",
            "624/624 [==============================] - 8s 13ms/step - loss: 0.0477 - f1_score: 0.4434 - val_loss: 0.0744 - val_f1_score: 0.3443\n",
            "Epoch 4/10\n",
            "624/624 [==============================] - 6s 10ms/step - loss: 0.0433 - f1_score: 0.4680 - val_loss: 0.0853 - val_f1_score: 0.3932\n",
            "Epoch 5/10\n",
            "624/624 [==============================] - 7s 12ms/step - loss: 0.0392 - f1_score: 0.4970 - val_loss: 0.0894 - val_f1_score: 0.4045\n",
            "Epoch 6/10\n",
            "624/624 [==============================] - 6s 9ms/step - loss: 0.0351 - f1_score: 0.5479 - val_loss: 0.0934 - val_f1_score: 0.4315\n",
            "Epoch 7/10\n",
            "624/624 [==============================] - 7s 11ms/step - loss: 0.0315 - f1_score: 0.5911 - val_loss: 0.0917 - val_f1_score: 0.4339\n",
            "Epoch 8/10\n",
            "624/624 [==============================] - 5s 8ms/step - loss: 0.0279 - f1_score: 0.6310 - val_loss: 0.1031 - val_f1_score: 0.4498\n",
            "Epoch 9/10\n",
            "624/624 [==============================] - 6s 10ms/step - loss: 0.0249 - f1_score: 0.6744 - val_loss: 0.1088 - val_f1_score: 0.4553\n",
            "Epoch 10/10\n",
            "624/624 [==============================] - 6s 9ms/step - loss: 0.0219 - f1_score: 0.7265 - val_loss: 0.1201 - val_f1_score: 0.4947\n",
            "Training Complete\n"
          ]
        }
      ],
      "source": [
        "embedding_dim = 100    # Dimensions used for glove6b100\n",
        "max_length = 20        # Maximum size of a tweet\n",
        "trunc_type='post'      # Truncates the tweet if it is longer than max_length\n",
        "padding_type='post'    # Adds padding to the end of the tweet if it is shorter than max_length\n",
        "oov_tok = \"<OOV>\"      # Token \"<OOV>\" replaces words that are not part of the vocabulary (Out Of Vocabulary)\n",
        "size_bag_of_words = 20000\n",
        "\n",
        "tokenizerDL = Tokenizer(size_bag_of_words)\n",
        "tokenizerDL.fit_on_texts(X_train)\n",
        "\n",
        "word_index = tokenizerDL.word_index\n",
        "vocab_size=len(word_index)\n",
        "\n",
        "train_sequences = tokenizerDL.texts_to_sequences(X_train)\n",
        "training_padded = np.array(pad_sequences(train_sequences, maxlen=max_length, padding=padding_type, truncating=trunc_type))\n",
        "\n",
        "test_sequences = tokenizerDL.texts_to_sequences(X_test)\n",
        "testing_padded = np.array(pad_sequences(test_sequences, maxlen=max_length, padding=padding_type, truncating=trunc_type))\n",
        "\n",
        "num_epochs = 10\n",
        "\n",
        "model3 = tf.keras.Sequential([\n",
        "    tf.keras.layers.Embedding(size_bag_of_words+1, embedding_dim, input_length=max_length),\n",
        "    LSTM(units=64),\n",
        "    tf.keras.layers.Dense(6, activation='sigmoid')\n",
        "])\n",
        "\n",
        "model3.compile(loss='binary_crossentropy',optimizer='adam',metrics=[tfa.metrics.F1Score(num_classes=6, threshold=0.5)])\n",
        "\n",
        "history3 = model3.fit(training_padded, \n",
        "                      y_train, \n",
        "                      epochs=num_epochs, \n",
        "                      validation_data=(testing_padded, y_test),\n",
        "                      batch_size = 256,\n",
        "                      verbose=1)\n",
        "  \n",
        "print(\"Training Complete\")"
      ]
    },
    {
      "cell_type": "code",
      "execution_count": null,
      "metadata": {
        "colab": {
          "base_uri": "https://localhost:8080/",
          "height": 608
        },
        "id": "andxxlQNW-iT",
        "outputId": "2d8b43bb-2d71-44de-e575-fdc893440888"
      },
      "outputs": [
        {
          "data": {
            "image/png": "[encoded data removed]",
            "text/plain": [
              "<Figure size 432x288 with 1 Axes>"
            ]
          },
          "metadata": {
            "needs_background": "light"
          },
          "output_type": "display_data"
        },
        {
          "data": {
            "text/plain": [
              "<Figure size 432x288 with 0 Axes>"
            ]
          },
          "metadata": {},
          "output_type": "display_data"
        },
        {
          "data": {
            "image/png": "[encoded data removed]",
            "text/plain": [
              "<Figure size 432x288 with 1 Axes>"
            ]
          },
          "metadata": {
            "needs_background": "light"
          },
          "output_type": "display_data"
        },
        {
          "data": {
            "text/plain": [
              "<Figure size 432x288 with 0 Axes>"
            ]
          },
          "metadata": {},
          "output_type": "display_data"
        }
      ],
      "source": [
        "#-----------------------------------------------------------\n",
        "# Retrieve a list of list results on training and test data\n",
        "# sets for each training epoch\n",
        "#-----------------------------------------------------------\n",
        "acc=history3.history['f1_score']\n",
        "val_acc=history3.history['val_f1_score']\n",
        "loss=history3.history['loss']\n",
        "val_loss=history3.history['val_loss']\n",
        "\n",
        "epochs=range(len(acc)) # Get number of epochs\n",
        "\n",
        "#------------------------------------------------\n",
        "# Plot training and validation accuracy per epoch\n",
        "#------------------------------------------------\n",
        "plt.plot(epochs, acc, 'r')\n",
        "plt.plot(epochs, val_acc, 'b')\n",
        "plt.title('Training and validation f1-score')\n",
        "plt.xlabel(\"Epochs\")\n",
        "plt.ylabel(\"F1-score\")\n",
        "plt.legend([\"F1-score\", \"Validation Accuracy\"])\n",
        "\n",
        "plt.figure()\n",
        "plt.show()\n",
        "\n",
        "#------------------------------------------------\n",
        "# Plot training and validation loss per epoch\n",
        "#------------------------------------------------\n",
        "plt.plot(epochs, loss, 'r')\n",
        "plt.plot(epochs, val_loss, 'b')\n",
        "plt.title('Training and validation loss')\n",
        "plt.xlabel(\"Epochs\")\n",
        "plt.ylabel(\"Loss\")\n",
        "plt.legend([\"Loss\", \"Validation Loss\"])\n",
        "\n",
        "plt.figure()\n",
        "plt.show()"
      ]
    },
    {
      "cell_type": "code",
      "execution_count": null,
      "metadata": {
        "colab": {
          "base_uri": "https://localhost:8080/"
        },
        "id": "ApqGCYoPb9iQ",
        "outputId": "d5e9b828-88da-428f-9e52-819773ecf291"
      },
      "outputs": [
        {
          "name": "stdout",
          "output_type": "stream",
          "text": [
            "Model: \"sequential_20\"\n",
            "_________________________________________________________________\n",
            " Layer (type)                Output Shape              Param #   \n",
            "=================================================================\n",
            " embedding_20 (Embedding)    (None, 20, 100)           2000000   \n",
            "                                                                 \n",
            " lstm_20 (LSTM)              (None, 64)                42240     \n",
            "                                                                 \n",
            " dense_20 (Dense)            (None, 6)                 390       \n",
            "                                                                 \n",
            "=================================================================\n",
            "Total params: 2,042,630\n",
            "Trainable params: 2,042,630\n",
            "Non-trainable params: 0\n",
            "_________________________________________________________________\n"
          ]
        }
      ],
      "source": [
        "model.summary()"
      ]
    },
    {
      "cell_type": "code",
      "execution_count": null,
      "metadata": {
        "colab": {
          "base_uri": "https://localhost:8080/"
        },
        "id": "RARyfNKuTluj",
        "outputId": "b630b3e1-6424-43da-8b1e-b24c3b0dfef3"
      },
      "outputs": [
        {
          "data": {
            "text/plain": [
              "217806"
            ]
          },
          "execution_count": 135,
          "metadata": {},
          "output_type": "execute_result"
        }
      ],
      "source": [
        "vocab_size"
      ]
    },
    {
      "cell_type": "markdown",
      "metadata": {
        "id": "7Gs_PGqIQgtC"
      },
      "source": [
        "### 6.3.1 Utilisation matrice d'embedding (Glove)"
      ]
    },
    {
      "cell_type": "code",
      "execution_count": null,
      "metadata": {
        "id": "OS7spYbUNrgX"
      },
      "outputs": [],
      "source": [
        "embeddings_index = {};\n",
        "\n",
        "with open('/content/drive/MyDrive/RNN_sentiment_dataset/glove.6B.100d.txt') as f:\n",
        "    for line in f:\n",
        "        values = line.split();\n",
        "        word = values[0];\n",
        "        coefs = np.asarray(values[1:], dtype='float32');\n",
        "        embeddings_index[word] = coefs;\n",
        "\n",
        "embeddings_matrix = np.zeros((vocab_size+1, embedding_dim));\n",
        "for word, i in word_index.items():\n",
        "    embedding_vector = embeddings_index.get(word);\n",
        "    if embedding_vector is not None:\n",
        "        embeddings_matrix[i] = embedding_vector;"
      ]
    },
    {
      "cell_type": "code",
      "execution_count": null,
      "metadata": {
        "id": "daqYS28MQnCl"
      },
      "outputs": [],
      "source": [
        "model_matrice_embedding = tf.keras.Sequential([\n",
        "    tf.keras.layers.Embedding(vocab_size+1, embedding_dim, input_length=max_length, weights=[embeddings_matrix], trainable=False),\n",
        "    LSTM(units=64),\n",
        "    tf.keras.layers.Dense(6, activation='sigmoid')\n",
        "])"
      ]
    },
    {
      "cell_type": "code",
      "execution_count": null,
      "metadata": {
        "id": "6MLuQaHNQ3iY"
      },
      "outputs": [],
      "source": [
        "model_matrice_embedding.compile(loss='binary_crossentropy',optimizer='adam',metrics=[tfa.metrics.F1Score(num_classes=6, threshold=0.5)])"
      ]
    },
    {
      "cell_type": "code",
      "execution_count": null,
      "metadata": {
        "colab": {
          "base_uri": "https://localhost:8080/"
        },
        "id": "cZjazdvuQ_PI",
        "outputId": "04129cba-a8bb-408d-818e-65387adc7561"
      },
      "outputs": [
        {
          "name": "stdout",
          "output_type": "stream",
          "text": [
            "Model: \"sequential_9\"\n",
            "_________________________________________________________________\n",
            " Layer (type)                Output Shape              Param #   \n",
            "=================================================================\n",
            " embedding_9 (Embedding)     (None, 20, 100)           21780700  \n",
            "                                                                 \n",
            " lstm_9 (LSTM)               (None, 64)                42240     \n",
            "                                                                 \n",
            " dense_9 (Dense)             (None, 6)                 390       \n",
            "                                                                 \n",
            "=================================================================\n",
            "Total params: 21,823,330\n",
            "Trainable params: 42,630\n",
            "Non-trainable params: 21,780,700\n",
            "_________________________________________________________________\n"
          ]
        }
      ],
      "source": [
        "model_matrice_embedding.summary()"
      ]
    },
    {
      "cell_type": "code",
      "execution_count": null,
      "metadata": {
        "id": "1q2Kos_ed4w6"
      },
      "outputs": [],
      "source": [
        "num_epochs = 10"
      ]
    },
    {
      "cell_type": "code",
      "execution_count": null,
      "metadata": {
        "colab": {
          "base_uri": "https://localhost:8080/"
        },
        "id": "ujlmzQbVREPZ",
        "outputId": "af2cd45e-05eb-4f23-9e10-2bd2a950be1b"
      },
      "outputs": [
        {
          "name": "stdout",
          "output_type": "stream",
          "text": [
            "Epoch 1/20\n",
            "624/624 [==============================] - 7s 8ms/step - loss: 0.0963 - f1_score: 0.2708 - val_loss: 0.0801 - val_f1_score: 0.2976\n",
            "Epoch 2/20\n",
            "624/624 [==============================] - 4s 7ms/step - loss: 0.0612 - f1_score: 0.3666 - val_loss: 0.0794 - val_f1_score: 0.3430\n",
            "Epoch 3/20\n",
            "624/624 [==============================] - 4s 7ms/step - loss: 0.0579 - f1_score: 0.4132 - val_loss: 0.0904 - val_f1_score: 0.3902\n",
            "Epoch 4/20\n",
            "624/624 [==============================] - 6s 9ms/step - loss: 0.0551 - f1_score: 0.4590 - val_loss: 0.0749 - val_f1_score: 0.4290\n",
            "Epoch 5/20\n",
            "624/624 [==============================] - 4s 6ms/step - loss: 0.0532 - f1_score: 0.4861 - val_loss: 0.0754 - val_f1_score: 0.4571\n",
            "Epoch 6/20\n",
            "624/624 [==============================] - 4s 6ms/step - loss: 0.0516 - f1_score: 0.5035 - val_loss: 0.0787 - val_f1_score: 0.4703\n",
            "Epoch 7/20\n",
            "624/624 [==============================] - 5s 8ms/step - loss: 0.0502 - f1_score: 0.5219 - val_loss: 0.0774 - val_f1_score: 0.4869\n",
            "Epoch 8/20\n",
            "624/624 [==============================] - 4s 6ms/step - loss: 0.0490 - f1_score: 0.5492 - val_loss: 0.0777 - val_f1_score: 0.4979\n",
            "Epoch 9/20\n",
            "624/624 [==============================] - 4s 7ms/step - loss: 0.0480 - f1_score: 0.5670 - val_loss: 0.0751 - val_f1_score: 0.5263\n",
            "Epoch 10/20\n",
            "624/624 [==============================] - 5s 8ms/step - loss: 0.0471 - f1_score: 0.5849 - val_loss: 0.0807 - val_f1_score: 0.5331\n",
            "Epoch 11/20\n",
            "624/624 [==============================] - 4s 7ms/step - loss: 0.0461 - f1_score: 0.5984 - val_loss: 0.0837 - val_f1_score: 0.5346\n",
            "Epoch 12/20\n",
            "624/624 [==============================] - 4s 6ms/step - loss: 0.0452 - f1_score: 0.6043 - val_loss: 0.0820 - val_f1_score: 0.4977\n",
            "Epoch 13/20\n",
            "624/624 [==============================] - 5s 8ms/step - loss: 0.0444 - f1_score: 0.6126 - val_loss: 0.0909 - val_f1_score: 0.5223\n",
            "Epoch 14/20\n",
            "624/624 [==============================] - 4s 6ms/step - loss: 0.0435 - f1_score: 0.6252 - val_loss: 0.0790 - val_f1_score: 0.5204\n",
            "Epoch 15/20\n",
            "624/624 [==============================] - 4s 6ms/step - loss: 0.0427 - f1_score: 0.6257 - val_loss: 0.0846 - val_f1_score: 0.5322\n",
            "Epoch 16/20\n",
            "624/624 [==============================] - 5s 8ms/step - loss: 0.0418 - f1_score: 0.6372 - val_loss: 0.0838 - val_f1_score: 0.5253\n",
            "Epoch 17/20\n",
            "624/624 [==============================] - 5s 8ms/step - loss: 0.0410 - f1_score: 0.6420 - val_loss: 0.0841 - val_f1_score: 0.5306\n",
            "Epoch 18/20\n",
            "624/624 [==============================] - 4s 6ms/step - loss: 0.0403 - f1_score: 0.6478 - val_loss: 0.0850 - val_f1_score: 0.5295\n",
            "Epoch 19/20\n",
            "624/624 [==============================] - 5s 8ms/step - loss: 0.0396 - f1_score: 0.6591 - val_loss: 0.0852 - val_f1_score: 0.5323\n",
            "Epoch 20/20\n",
            "624/624 [==============================] - 5s 8ms/step - loss: 0.0389 - f1_score: 0.6669 - val_loss: 0.0863 - val_f1_score: 0.5298\n",
            "Training Complete\n"
          ]
        }
      ],
      "source": [
        "history_matrice_embedding = model_matrice_embedding.fit(training_padded, \n",
        "                      y_train, \n",
        "                      epochs=num_epochs, \n",
        "                      validation_data=(testing_padded, y_test),\n",
        "                      batch_size = 256,\n",
        "                      verbose=1)\n",
        "  \n",
        "print(\"Training Complete\")"
      ]
    },
    {
      "cell_type": "code",
      "execution_count": null,
      "metadata": {
        "colab": {
          "base_uri": "https://localhost:8080/",
          "height": 608
        },
        "id": "0-Fb97MKRIqH",
        "outputId": "d278a12a-c5d6-4485-ac1e-f0a5a02f753a"
      },
      "outputs": [
        {
          "data": {
            "image/png": "[encoded data removed]",
            "text/plain": [
              "<Figure size 432x288 with 1 Axes>"
            ]
          },
          "metadata": {
            "needs_background": "light"
          },
          "output_type": "display_data"
        },
        {
          "data": {
            "text/plain": [
              "<Figure size 432x288 with 0 Axes>"
            ]
          },
          "metadata": {},
          "output_type": "display_data"
        },
        {
          "data": {
            "image/png": "[encoded data removed]",
            "text/plain": [
              "<Figure size 432x288 with 1 Axes>"
            ]
          },
          "metadata": {
            "needs_background": "light"
          },
          "output_type": "display_data"
        },
        {
          "data": {
            "text/plain": [
              "<Figure size 432x288 with 0 Axes>"
            ]
          },
          "metadata": {},
          "output_type": "display_data"
        }
      ],
      "source": [
        "#-----------------------------------------------------------\n",
        "# Retrieve a list of list results on training and test data\n",
        "# sets for each training epoch\n",
        "#-----------------------------------------------------------\n",
        "acc=history.history['f1_score']\n",
        "val_acc=history.history['val_f1_score']\n",
        "loss=history.history['loss']\n",
        "val_loss=history.history['val_loss']\n",
        "\n",
        "epochs=range(len(acc)) # Get number of epochs\n",
        "\n",
        "#------------------------------------------------\n",
        "# Plot training and validation accuracy per epoch\n",
        "#------------------------------------------------\n",
        "plt.plot(epochs, acc, 'r')\n",
        "plt.plot(epochs, val_acc, 'b')\n",
        "plt.title('Training and validation f1-score')\n",
        "plt.xlabel(\"Epochs\")\n",
        "plt.ylabel(\"F1-score\")\n",
        "plt.legend([\"F1-score\", \"Validation Accuracy\"])\n",
        "\n",
        "plt.figure()\n",
        "plt.show()\n",
        "\n",
        "#------------------------------------------------\n",
        "# Plot training and validation loss per epoch\n",
        "#------------------------------------------------\n",
        "plt.plot(epochs, loss, 'r')\n",
        "plt.plot(epochs, val_loss, 'b')\n",
        "plt.title('Training and validation loss')\n",
        "plt.xlabel(\"Epochs\")\n",
        "plt.ylabel(\"Loss\")\n",
        "plt.legend([\"Loss\", \"Validation Loss\"])\n",
        "\n",
        "plt.figure()\n",
        "plt.show()"
      ]
    },
    {
      "cell_type": "code",
      "execution_count": null,
      "metadata": {
        "id": "nIGukk7PSoON"
      },
      "outputs": [],
      "source": []
    }
  ],
  "metadata": {
    "accelerator": "GPU",
    "colab": {
      "include_colab_link": true,
      "provenance": []
    },
    "gpuClass": "standard",
    "kernelspec": {
      "display_name": "Python 3",
      "name": "python3"
    },
    "language_info": {
      "name": "python"
    }
  },
  "nbformat": 4,
  "nbformat_minor": 0
}
